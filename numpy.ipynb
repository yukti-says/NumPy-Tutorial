{
 "cells": [
  {
   "cell_type": "code",
   "execution_count": 1,
   "id": "61dc2954-16c3-46a7-a6d9-66e2c1eadc3f",
   "metadata": {},
   "outputs": [],
   "source": [
    "import numpy as np"
   ]
  },
  {
   "cell_type": "code",
   "execution_count": 3,
   "id": "9ccf38c8-0e7b-4887-bf60-8530101cf3ba",
   "metadata": {},
   "outputs": [],
   "source": [
    "a=np.array([12,23,45,6,45])"
   ]
  },
  {
   "cell_type": "code",
   "execution_count": 5,
   "id": "a184c7a3-899d-4667-aaf9-98c454d4e3e6",
   "metadata": {},
   "outputs": [
    {
     "name": "stdout",
     "output_type": "stream",
     "text": [
      "12 23 45 6 45\n"
     ]
    }
   ],
   "source": [
    "print(*a)"
   ]
  },
  {
   "cell_type": "code",
   "execution_count": 7,
   "id": "57bdfd1a-8274-48ed-b363-f06faf9f7b4c",
   "metadata": {},
   "outputs": [
    {
     "name": "stdout",
     "output_type": "stream",
     "text": [
      "[12 23 45  6 45]\n"
     ]
    }
   ],
   "source": [
    "print(a)"
   ]
  },
  {
   "cell_type": "code",
   "execution_count": 9,
   "id": "076bd0e1-a96c-41dd-98d5-c22bcd52ae48",
   "metadata": {},
   "outputs": [],
   "source": [
    "a1=np.array((12,23,45,6,45)) #array will be homogenous collection of elements,equal elements in all arrays of dimentions\n"
   ]
  },
  {
   "cell_type": "code",
   "execution_count": 11,
   "id": "4c2a820d-2134-4818-9fa7-d0f598e2e248",
   "metadata": {},
   "outputs": [
    {
     "name": "stdout",
     "output_type": "stream",
     "text": [
      "[12 23 45  6 45]\n"
     ]
    }
   ],
   "source": [
    "print(a1)"
   ]
  },
  {
   "cell_type": "code",
   "execution_count": 15,
   "id": "46aa3307-b3cd-46c6-94c6-e6f8696e102b",
   "metadata": {},
   "outputs": [
    {
     "name": "stdout",
     "output_type": "stream",
     "text": [
      "<class 'numpy.ndarray'>\n"
     ]
    }
   ],
   "source": [
    "print(type(a))"
   ]
  },
  {
   "cell_type": "code",
   "execution_count": 17,
   "id": "da5f2076-2fc0-4d81-8eef-13ea3b9ea911",
   "metadata": {},
   "outputs": [
    {
     "name": "stdout",
     "output_type": "stream",
     "text": [
      "<class 'numpy.ndarray'>\n"
     ]
    }
   ],
   "source": [
    "#0 dimention array\n",
    "z=np.array(23)\n",
    "print(type(z))"
   ]
  },
  {
   "cell_type": "code",
   "execution_count": 27,
   "id": "48c8b01a-3dd8-4999-b263-46f82dcb3be8",
   "metadata": {},
   "outputs": [
    {
     "name": "stdout",
     "output_type": "stream",
     "text": [
      "<class 'numpy.ndarray'>\n",
      "[12 23 45]\n"
     ]
    }
   ],
   "source": [
    "#1 dimention array\n",
    "o=np.array([12,23,45])\n",
    "print(type(o))\n",
    "print(o)"
   ]
  },
  {
   "cell_type": "code",
   "execution_count": 37,
   "id": "afca971c-073e-4b14-92cf-d641c9e56205",
   "metadata": {},
   "outputs": [
    {
     "name": "stdout",
     "output_type": "stream",
     "text": [
      "[['1' '2']\n",
      " ['5' '4']\n",
      " ['9' '8.3']]\n"
     ]
    }
   ],
   "source": [
    "#2 dimentin array->collection of 1D arrays\n",
    "t=np.array([[1,2],[5,'4'],[9,8.3]])\n",
    "print(t)"
   ]
  },
  {
   "cell_type": "code",
   "execution_count": 51,
   "id": "a292e41b-c2ec-47ad-b7d4-3fc5167d5f99",
   "metadata": {},
   "outputs": [
    {
     "name": "stdout",
     "output_type": "stream",
     "text": [
      "[[[12.3 23.   4. ]\n",
      "  [ 4.   5.   6. ]\n",
      "  [ 6.   8.   9. ]]\n",
      "\n",
      " [[ 3.   4.   5. ]\n",
      "  [22.  33.  44. ]\n",
      "  [55.  66.  77. ]]]\n"
     ]
    }
   ],
   "source": [
    "#3 dimention array->one array of two dimentional\n",
    "t2=np.array([[[12.3,23,4],[4,5,6],[6,8,9]],[[3,4,5],[22,33,44],[55,66,77]]])\n",
    "print(t2)"
   ]
  },
  {
   "cell_type": "code",
   "execution_count": 45,
   "id": "ed80d2e5-e4c2-40ee-bea4-186fd50924af",
   "metadata": {},
   "outputs": [
    {
     "name": "stdout",
     "output_type": "stream",
     "text": [
      "[[[[1 2]\n",
      "   [3 4]]\n",
      "\n",
      "  [[1 2]\n",
      "   [3 4]]]\n",
      "\n",
      "\n",
      " [[[1 2]\n",
      "   [3 4]]\n",
      "\n",
      "  [[1 2]\n",
      "   [3 4]]]]\n"
     ]
    }
   ],
   "source": [
    "#4 dimention array\n",
    "f=np.array([[[[1,2],[3,4]],[[1,2],[3,4]]],[[[1,2],[3,4]],[[1,2],[3,4]]]])\n",
    "print(f)"
   ]
  },
  {
   "cell_type": "code",
   "execution_count": 47,
   "id": "a240abf7-52f3-449d-b949-90225fb5821e",
   "metadata": {},
   "outputs": [
    {
     "data": {
      "text/plain": [
       "dtype('int32')"
      ]
     },
     "execution_count": 47,
     "metadata": {},
     "output_type": "execute_result"
    }
   ],
   "source": [
    "#all elements in array will be same\n",
    "f.dtype"
   ]
  },
  {
   "cell_type": "code",
   "execution_count": 49,
   "id": "d26916fc-bbe2-4f92-8540-5996a5bc3091",
   "metadata": {},
   "outputs": [
    {
     "data": {
      "text/plain": [
       "dtype('<U32')"
      ]
     },
     "execution_count": 49,
     "metadata": {},
     "output_type": "execute_result"
    }
   ],
   "source": [
    "t.dtype"
   ]
  },
  {
   "cell_type": "code",
   "execution_count": 53,
   "id": "3f90f1e3-1808-4631-8c89-2ab164dbe60d",
   "metadata": {},
   "outputs": [
    {
     "data": {
      "text/plain": [
       "dtype('float64')"
      ]
     },
     "execution_count": 53,
     "metadata": {},
     "output_type": "execute_result"
    }
   ],
   "source": [
    "t2.dtype"
   ]
  },
  {
   "cell_type": "code",
   "execution_count": 65,
   "id": "7c7fced0-3a20-4f78-a271-4d3d3a26d009",
   "metadata": {},
   "outputs": [
    {
     "name": "stdout",
     "output_type": "stream",
     "text": [
      "[b'2' b'3' b'4']\n"
     ]
    },
    {
     "data": {
      "text/plain": [
       "dtype('S1')"
      ]
     },
     "execution_count": 65,
     "metadata": {},
     "output_type": "execute_result"
    }
   ],
   "source": [
    "#create an array and specify its datatype by yourself-\n",
    "c=np.array([2,3,4],dtype='S')\n",
    "print(c)\n",
    "c.dtype"
   ]
  },
  {
   "cell_type": "code",
   "execution_count": 67,
   "id": "8681b7bc-929d-4583-9a55-175164c26a3c",
   "metadata": {},
   "outputs": [
    {
     "name": "stdout",
     "output_type": "stream",
     "text": [
      "[b'2' b'3' b'4']\n"
     ]
    },
    {
     "data": {
      "text/plain": [
       "dtype('float32')"
      ]
     },
     "execution_count": 67,
     "metadata": {},
     "output_type": "execute_result"
    }
   ],
   "source": [
    "d=np.array([2.4,'3',4],dtype='f4')\n",
    "print(c)\n",
    "d.dtype"
   ]
  },
  {
   "cell_type": "code",
   "execution_count": 77,
   "id": "f3686a5c-1563-4f5e-9d53-db22da6040bc",
   "metadata": {},
   "outputs": [
    {
     "name": "stdout",
     "output_type": "stream",
     "text": [
      "[2.4 1.  4. ]\n"
     ]
    },
    {
     "data": {
      "text/plain": [
       "dtype('float64')"
      ]
     },
     "execution_count": 77,
     "metadata": {},
     "output_type": "execute_result"
    }
   ],
   "source": [
    "d=np.array([2.4,True,4])\n",
    "print(d)\n",
    "d.dtype"
   ]
  },
  {
   "cell_type": "code",
   "execution_count": 5,
   "id": "3046bc5f-3e6d-4d0b-b6cd-078650a8447f",
   "metadata": {},
   "outputs": [],
   "source": [
    "a1=np.array([[1,2,3],[4,5,6],[7,8,9],[10,11,12]]) #4 one dimentional arrays of same size in two dimentional array"
   ]
  },
  {
   "cell_type": "code",
   "execution_count": 7,
   "id": "79ec939d-9929-4a91-87b0-06511989ee5b",
   "metadata": {},
   "outputs": [
    {
     "data": {
      "text/plain": [
       "numpy.ndarray"
      ]
     },
     "execution_count": 7,
     "metadata": {},
     "output_type": "execute_result"
    }
   ],
   "source": [
    "type(a1)"
   ]
  },
  {
   "cell_type": "code",
   "execution_count": 9,
   "id": "36d34331-8b20-4ad4-aa4c-44ab25b98bc1",
   "metadata": {},
   "outputs": [
    {
     "data": {
      "text/plain": [
       "dtype('int32')"
      ]
     },
     "execution_count": 9,
     "metadata": {},
     "output_type": "execute_result"
    }
   ],
   "source": [
    "a1.dtype"
   ]
  },
  {
   "cell_type": "code",
   "execution_count": 13,
   "id": "c1572452-a047-4756-91a0-660fb990ffea",
   "metadata": {},
   "outputs": [
    {
     "data": {
      "text/plain": [
       "12"
      ]
     },
     "execution_count": 13,
     "metadata": {},
     "output_type": "execute_result"
    }
   ],
   "source": [
    "a1.size #so size is number of elements-lowest level/depth pe kitne elements hai"
   ]
  },
  {
   "cell_type": "code",
   "execution_count": 15,
   "id": "4419de1b-cd7d-4f7b-b138-0b8b2311c74d",
   "metadata": {},
   "outputs": [],
   "source": [
    "a2=np.array([[[],[],[]],[[],[],[]]])"
   ]
  },
  {
   "cell_type": "code",
   "execution_count": 17,
   "id": "f7d7ceaf-349e-47d2-8341-d14030fb7542",
   "metadata": {},
   "outputs": [
    {
     "data": {
      "text/plain": [
       "0"
      ]
     },
     "execution_count": 17,
     "metadata": {},
     "output_type": "execute_result"
    }
   ],
   "source": [
    "a2.size #0 as there is no elements in array"
   ]
  },
  {
   "cell_type": "code",
   "execution_count": 21,
   "id": "64d01b02-aeed-4f68-af4c-983afa870299",
   "metadata": {},
   "outputs": [
    {
     "data": {
      "text/plain": [
       "2"
      ]
     },
     "execution_count": 21,
     "metadata": {},
     "output_type": "execute_result"
    }
   ],
   "source": [
    "a1.ndim #checking dimentions"
   ]
  },
  {
   "cell_type": "code",
   "execution_count": 23,
   "id": "def31be5-c7ad-476d-a4fa-80f408acf639",
   "metadata": {},
   "outputs": [
    {
     "data": {
      "text/plain": [
       "3"
      ]
     },
     "execution_count": 23,
     "metadata": {},
     "output_type": "execute_result"
    }
   ],
   "source": [
    "a2.ndim"
   ]
  },
  {
   "cell_type": "code",
   "execution_count": 25,
   "id": "71c8df5c-2185-4e6c-b9c0-2a87fab34ee9",
   "metadata": {},
   "outputs": [],
   "source": [
    "a3=np.array(2)"
   ]
  },
  {
   "cell_type": "code",
   "execution_count": 27,
   "id": "812b629b-d7fe-4071-9397-0548a8a8e1b2",
   "metadata": {},
   "outputs": [
    {
     "data": {
      "text/plain": [
       "0"
      ]
     },
     "execution_count": 27,
     "metadata": {},
     "output_type": "execute_result"
    }
   ],
   "source": [
    "a3.ndim"
   ]
  },
  {
   "cell_type": "code",
   "execution_count": 31,
   "id": "b4ccf738-c5c5-45e1-9b36-ff6ae03fb9a0",
   "metadata": {},
   "outputs": [],
   "source": [
    "#numpy can have any number of dimentions - you can set dimension while creating array\n",
    "#a1=np.array([1,2,3],ndmin->minimum dimension)"
   ]
  },
  {
   "cell_type": "code",
   "execution_count": 33,
   "id": "ca520af3-95eb-4a4f-8e48-80b5525bf097",
   "metadata": {},
   "outputs": [],
   "source": [
    "a4=np.array([12,2,3],ndmin=0)#0 minimus it cant be less than 0 but can be greater than 0 so by seeing values it given 1 dimension"
   ]
  },
  {
   "cell_type": "code",
   "execution_count": 35,
   "id": "76e73066-9883-4570-9582-fa069ca8be1a",
   "metadata": {},
   "outputs": [
    {
     "data": {
      "text/plain": [
       "1"
      ]
     },
     "execution_count": 35,
     "metadata": {},
     "output_type": "execute_result"
    }
   ],
   "source": [
    "a4.ndim"
   ]
  },
  {
   "cell_type": "code",
   "execution_count": 37,
   "id": "38627f48-667a-495e-9404-12fcbf398e3f",
   "metadata": {},
   "outputs": [],
   "source": [
    "a4=np.array([12,2,3],ndmin=2)"
   ]
  },
  {
   "cell_type": "code",
   "execution_count": 39,
   "id": "003df360-d754-4104-adad-638d3fa640b5",
   "metadata": {},
   "outputs": [
    {
     "data": {
      "text/plain": [
       "2"
      ]
     },
     "execution_count": 39,
     "metadata": {},
     "output_type": "execute_result"
    }
   ],
   "source": [
    "a4.ndim"
   ]
  },
  {
   "cell_type": "code",
   "execution_count": 41,
   "id": "e5d21588-6e7a-4c36-b1ec-2fce8758eb38",
   "metadata": {},
   "outputs": [
    {
     "data": {
      "text/plain": [
       "array([[12,  2,  3]])"
      ]
     },
     "execution_count": 41,
     "metadata": {},
     "output_type": "execute_result"
    }
   ],
   "source": [
    "a4 #see two extra bracket"
   ]
  },
  {
   "cell_type": "code",
   "execution_count": 43,
   "id": "cff06225-ba69-4e5b-87c2-985aaf056654",
   "metadata": {},
   "outputs": [],
   "source": [
    "#learn about shape->for knowing the elements in each dimension as size was giving lowest values"
   ]
  },
  {
   "cell_type": "code",
   "execution_count": 45,
   "id": "26bf42e1-2a07-496e-933e-11527c96c8f6",
   "metadata": {},
   "outputs": [
    {
     "data": {
      "text/plain": [
       "(1, 3)"
      ]
     },
     "execution_count": 45,
     "metadata": {},
     "output_type": "execute_result"
    }
   ],
   "source": [
    "a4.shape #1,3 as started from higher to lower,2d me kitne 1d then,1d me kitne elements"
   ]
  },
  {
   "cell_type": "code",
   "execution_count": 47,
   "id": "3d2aa6f0-c764-4218-9240-eadb2bd68805",
   "metadata": {},
   "outputs": [
    {
     "data": {
      "text/plain": [
       "(4, 3)"
      ]
     },
     "execution_count": 47,
     "metadata": {},
     "output_type": "execute_result"
    }
   ],
   "source": [
    "a1.shape"
   ]
  },
  {
   "cell_type": "code",
   "execution_count": 49,
   "id": "71485be6-c513-4a02-bc1f-2067c7b7b1f4",
   "metadata": {},
   "outputs": [
    {
     "data": {
      "text/plain": [
       "(2, 3, 0)"
      ]
     },
     "execution_count": 49,
     "metadata": {},
     "output_type": "execute_result"
    }
   ],
   "source": [
    "a2.shape"
   ]
  },
  {
   "cell_type": "code",
   "execution_count": 51,
   "id": "5b4ee87f-6a4a-4844-9f37-ec3e58eea33e",
   "metadata": {},
   "outputs": [
    {
     "data": {
      "text/plain": [
       "array([], shape=(2, 3, 0), dtype=float64)"
      ]
     },
     "execution_count": 51,
     "metadata": {},
     "output_type": "execute_result"
    }
   ],
   "source": [
    "a2"
   ]
  },
  {
   "cell_type": "code",
   "execution_count": 53,
   "id": "d4c4c147-35a0-4660-9dd7-cb787f2d106e",
   "metadata": {},
   "outputs": [
    {
     "data": {
      "text/plain": [
       "()"
      ]
     },
     "execution_count": 53,
     "metadata": {},
     "output_type": "execute_result"
    }
   ],
   "source": [
    "a3.shape"
   ]
  },
  {
   "cell_type": "code",
   "execution_count": 55,
   "id": "ee1efc53-d1b6-41ca-bbaa-d07084ebeedd",
   "metadata": {},
   "outputs": [
    {
     "data": {
      "text/plain": [
       "5"
      ]
     },
     "execution_count": 55,
     "metadata": {},
     "output_type": "execute_result"
    }
   ],
   "source": [
    "a5=np.array([1,2,3,4,5])\n",
    "a5.size"
   ]
  },
  {
   "cell_type": "code",
   "execution_count": 57,
   "id": "e3f86c1c-6750-4530-ad79-62c08d9bf154",
   "metadata": {},
   "outputs": [
    {
     "data": {
      "text/plain": [
       "(5,)"
      ]
     },
     "execution_count": 57,
     "metadata": {},
     "output_type": "execute_result"
    }
   ],
   "source": [
    "a5.shape"
   ]
  },
  {
   "cell_type": "markdown",
   "id": "4e7ef2a4-e570-46e7-bc6f-610e1363f824",
   "metadata": {},
   "source": [
    "# another way to create numpy array"
   ]
  },
  {
   "cell_type": "code",
   "execution_count": 3,
   "id": "b1a9d959-b09b-4a15-a063-525a5a7d2b82",
   "metadata": {},
   "outputs": [],
   "source": [
    "a1=np.zeros((3,1)) #array me 0s and () me dimensions are given like in a array->3 array->1,1 element which will be 0"
   ]
  },
  {
   "cell_type": "code",
   "execution_count": 5,
   "id": "e77e81bb-2e93-473f-bc3c-ad2d79f521fa",
   "metadata": {},
   "outputs": [
    {
     "data": {
      "text/plain": [
       "array([[0.],\n",
       "       [0.],\n",
       "       [0.]])"
      ]
     },
     "execution_count": 5,
     "metadata": {},
     "output_type": "execute_result"
    }
   ],
   "source": [
    "a1 #by default data type float"
   ]
  },
  {
   "cell_type": "code",
   "execution_count": 7,
   "id": "c2b875d6-7aa3-4670-94d8-52fb9000035a",
   "metadata": {},
   "outputs": [
    {
     "data": {
      "text/plain": [
       "array([[0],\n",
       "       [0],\n",
       "       [0]])"
      ]
     },
     "execution_count": 7,
     "metadata": {},
     "output_type": "execute_result"
    }
   ],
   "source": [
    "a1=np.zeros((3,1),dtype='int')\n",
    "a1"
   ]
  },
  {
   "cell_type": "code",
   "execution_count": 13,
   "id": "6e2850c4-a53d-40ff-a6ca-d0b52a806fd5",
   "metadata": {},
   "outputs": [
    {
     "data": {
      "text/plain": [
       "array([[[1, 1],\n",
       "        [1, 1]],\n",
       "\n",
       "       [[1, 1],\n",
       "        [1, 1]],\n",
       "\n",
       "       [[1, 1],\n",
       "        [1, 1]]])"
      ]
     },
     "execution_count": 13,
     "metadata": {},
     "output_type": "execute_result"
    }
   ],
   "source": [
    "#if u want 1 elemets in array\n",
    "a2=np.ones((3,2,2),dtype='int')\n",
    "a2"
   ]
  },
  {
   "cell_type": "code",
   "execution_count": 17,
   "id": "81c445ec-2f62-453f-af10-1bfea2722123",
   "metadata": {},
   "outputs": [
    {
     "name": "stdout",
     "output_type": "stream",
     "text": [
      "[[22 22 22]\n",
      " [22 22 22]\n",
      " [22 22 22]]\n"
     ]
    }
   ],
   "source": [
    "#if you want all values 2,3or etc ->use function full()\n",
    "a3=np.full((3,3),22,dtype='int')\n",
    "print(a3)"
   ]
  },
  {
   "cell_type": "code",
   "execution_count": 19,
   "id": "009397f4-de7e-433b-946b-1415d407a32c",
   "metadata": {},
   "outputs": [
    {
     "name": "stdout",
     "output_type": "stream",
     "text": [
      "[0 1 2 3 4]\n"
     ]
    }
   ],
   "source": [
    "#arange()->ik range me saari values provide karega\n",
    "a5=np.arange(5)\n",
    "print(a5)"
   ]
  },
  {
   "cell_type": "code",
   "execution_count": 21,
   "id": "fa2468b4-b407-4947-9df2-02b5b944c3a8",
   "metadata": {},
   "outputs": [
    {
     "name": "stdout",
     "output_type": "stream",
     "text": [
      "[5 6 7 8 9]\n"
     ]
    }
   ],
   "source": [
    "a2=np.arange(5,10)\n",
    "print(a2) #arange se one dimension array hi created"
   ]
  },
  {
   "cell_type": "code",
   "execution_count": 25,
   "id": "43cf278e-e0d2-4536-9557-02ec52e48d06",
   "metadata": {},
   "outputs": [
    {
     "name": "stdout",
     "output_type": "stream",
     "text": [
      "[ 1  2  3  4  5  6  7  8  9 10]\n"
     ]
    }
   ],
   "source": [
    "#make 2d array with the help of reshape()\n",
    "#1st make 1d array using arange\n",
    "a1=np.arange(1,11)\n",
    "print(a1)"
   ]
  },
  {
   "cell_type": "code",
   "execution_count": 29,
   "id": "bc2157e7-e469-498a-ab51-8641b5a645b9",
   "metadata": {},
   "outputs": [
    {
     "data": {
      "text/plain": [
       "array([[ 1,  2],\n",
       "       [ 3,  4],\n",
       "       [ 5,  6],\n",
       "       [ 7,  8],\n",
       "       [ 9, 10]])"
      ]
     },
     "execution_count": 29,
     "metadata": {},
     "output_type": "execute_result"
    }
   ],
   "source": [
    "#now use reshape function for making it in 2d\n",
    "a1.reshape(5,2)\n"
   ]
  },
  {
   "cell_type": "code",
   "execution_count": 31,
   "id": "05838b10-694c-48e9-b733-5b2fa3a5b300",
   "metadata": {},
   "outputs": [
    {
     "data": {
      "text/plain": [
       "array([[ 1,  2,  3,  4,  5],\n",
       "       [ 6,  7,  8,  9, 10]])"
      ]
     },
     "execution_count": 31,
     "metadata": {},
     "output_type": "execute_result"
    }
   ],
   "source": [
    "a1.reshape(2,5)"
   ]
  },
  {
   "cell_type": "code",
   "execution_count": 42,
   "id": "ac441d04-8d15-4498-baa5-9d43320e824a",
   "metadata": {},
   "outputs": [
    {
     "data": {
      "text/plain": [
       "array([ 1,  2,  3,  4,  5,  6,  7,  8,  9, 10])"
      ]
     },
     "execution_count": 42,
     "metadata": {},
     "output_type": "execute_result"
    }
   ],
   "source": [
    "a1"
   ]
  },
  {
   "cell_type": "code",
   "execution_count": 44,
   "id": "27f8dc67-d4af-46fc-a2c6-8bcea584fc2b",
   "metadata": {},
   "outputs": [],
   "source": [
    "a1=a1.reshape(2,5)"
   ]
  },
  {
   "cell_type": "code",
   "execution_count": 46,
   "id": "0287ec32-e739-440b-bd20-20d2eed1831c",
   "metadata": {},
   "outputs": [
    {
     "data": {
      "text/plain": [
       "array([[ 1,  2,  3,  4,  5],\n",
       "       [ 6,  7,  8,  9, 10]])"
      ]
     },
     "execution_count": 46,
     "metadata": {},
     "output_type": "execute_result"
    }
   ],
   "source": [
    "a1 #reshaped"
   ]
  },
  {
   "cell_type": "code",
   "execution_count": 48,
   "id": "2fa1cc83-8bea-4ea8-a081-99ca141c0848",
   "metadata": {},
   "outputs": [
    {
     "name": "stdout",
     "output_type": "stream",
     "text": [
      "[ 5 10 15 20 25 30 35 40 45]\n"
     ]
    }
   ],
   "source": [
    "#now if you want elements in gap earlier arange was giving values with gap of one \n",
    "a2=np.arange(5,50,5) #extra 5 for giving it gap of 5\n",
    "print(a2)"
   ]
  },
  {
   "cell_type": "code",
   "execution_count": 52,
   "id": "44b33252-b444-4f76-a364-2550303bafd1",
   "metadata": {},
   "outputs": [
    {
     "name": "stdout",
     "output_type": "stream",
     "text": [
      "[ 5  8 11 14 17 20 23 26 29 32 35 38 41 44 47]\n"
     ]
    }
   ],
   "source": [
    "a=np.arange(5,50,3) \n",
    "print(a)"
   ]
  },
  {
   "cell_type": "code",
   "execution_count": 56,
   "id": "6c72cfa9-1ef2-49f2-b5fc-2dd0a8877b67",
   "metadata": {},
   "outputs": [
    {
     "name": "stdout",
     "output_type": "stream",
     "text": [
      "[60 58 56 54 52 50 48 46 44 42 40 38 36 34 32 30 28 26 24 22 20 18 16 14\n",
      " 12]\n"
     ]
    }
   ],
   "source": [
    "#reverse it\n",
    "a=np.arange(60,10,-2) \n",
    "print(a)"
   ]
  },
  {
   "cell_type": "code",
   "execution_count": 70,
   "id": "c76e7173-60ff-40f2-ae75-aebe751a0f72",
   "metadata": {},
   "outputs": [
    {
     "name": "stdout",
     "output_type": "stream",
     "text": [
      "[ 1  3  5  7 10]\n"
     ]
    }
   ],
   "source": [
    "#line space\n",
    "\n",
    "a1=np.linspace(1,10,5,dtype='int')\n",
    "print(a1) #middle values generated here you are telling total number of elements ki 5 chahiye and gap apne aap se decide hoga in arange u were giving gap"
   ]
  },
  {
   "cell_type": "code",
   "execution_count": 74,
   "id": "96119392-9c74-4dd6-b43a-5808ac5352d6",
   "metadata": {},
   "outputs": [
    {
     "name": "stdout",
     "output_type": "stream",
     "text": [
      "[ 1  1  1  1  2  2  2  3  3  3  4  4  4  5  5  5  5  6  6  6  7  7  7  8\n",
      "  8  8  9  9  9 10]\n"
     ]
    }
   ],
   "source": [
    "a2=np.linspace(1,10,30,dtype='int')\n",
    "print(a2)"
   ]
  },
  {
   "cell_type": "code",
   "execution_count": 76,
   "id": "93d12a7c-a7c1-4ab5-9200-86dcfa847d90",
   "metadata": {},
   "outputs": [
    {
     "name": "stdout",
     "output_type": "stream",
     "text": [
      "[[1 2]\n",
      " [3 4]\n",
      " [5 6]]\n"
     ]
    }
   ],
   "source": [
    "a1=np.array([[1,2],[3,4],[5,6]])\n",
    "print(a1)"
   ]
  },
  {
   "cell_type": "code",
   "execution_count": 78,
   "id": "cc46158b-dc05-4020-a4f7-bfb3ad006fa9",
   "metadata": {},
   "outputs": [
    {
     "data": {
      "text/plain": [
       "4"
      ]
     },
     "execution_count": 78,
     "metadata": {},
     "output_type": "execute_result"
    }
   ],
   "source": [
    "a1[1][1]"
   ]
  },
  {
   "cell_type": "code",
   "execution_count": 80,
   "id": "a98f6554-692d-41ac-ac63-0fc7d7b4081a",
   "metadata": {},
   "outputs": [
    {
     "ename": "ValueError",
     "evalue": "cannot convert float NaN to integer",
     "output_type": "error",
     "traceback": [
      "\u001b[1;31m---------------------------------------------------------------------------\u001b[0m",
      "\u001b[1;31mValueError\u001b[0m                                Traceback (most recent call last)",
      "Cell \u001b[1;32mIn[80], line 2\u001b[0m\n\u001b[0;32m      1\u001b[0m \u001b[38;5;66;03m#not a number converting\u001b[39;00m\n\u001b[1;32m----> 2\u001b[0m a1[\u001b[38;5;241m1\u001b[39m][\u001b[38;5;241m1\u001b[39m]\u001b[38;5;241m=\u001b[39mnp\u001b[38;5;241m.\u001b[39mnan\n",
      "\u001b[1;31mValueError\u001b[0m: cannot convert float NaN to integer"
     ]
    }
   ],
   "source": [
    "#not a number converting\n",
    "a1[1][1]=np.nan"
   ]
  },
  {
   "cell_type": "code",
   "execution_count": 82,
   "id": "dc1e5d66-c522-4497-8658-51a3fa7a326c",
   "metadata": {},
   "outputs": [],
   "source": [
    "#so lets convert the datatype\n",
    "a1=np.array([[1,2],[3,4],[5,6]],dtype='float')\n"
   ]
  },
  {
   "cell_type": "code",
   "execution_count": 84,
   "id": "5fac04aa-5d9a-407e-81b2-ee774fab3f8b",
   "metadata": {},
   "outputs": [],
   "source": [
    "a1[1][1]=np.nan"
   ]
  },
  {
   "cell_type": "code",
   "execution_count": 86,
   "id": "945b25a5-adec-4c31-8b2b-1b8a738c9520",
   "metadata": {},
   "outputs": [
    {
     "name": "stdout",
     "output_type": "stream",
     "text": [
      "[[ 1.  2.]\n",
      " [ 3. nan]\n",
      " [ 5.  6.]]\n"
     ]
    }
   ],
   "source": [
    "print(a1)"
   ]
  },
  {
   "cell_type": "code",
   "execution_count": 92,
   "id": "f2d0aefe-c07d-4417-a608-c910560780c5",
   "metadata": {},
   "outputs": [],
   "source": [
    "#create identity matrix\n",
    "a1=np.identity(5,dtype='int')"
   ]
  },
  {
   "cell_type": "code",
   "execution_count": 94,
   "id": "e5aed67d-b2ba-4a01-997f-51bf029e4c47",
   "metadata": {},
   "outputs": [
    {
     "data": {
      "text/plain": [
       "array([[1, 0, 0, 0, 0],\n",
       "       [0, 1, 0, 0, 0],\n",
       "       [0, 0, 1, 0, 0],\n",
       "       [0, 0, 0, 1, 0],\n",
       "       [0, 0, 0, 0, 1]])"
      ]
     },
     "execution_count": 94,
     "metadata": {},
     "output_type": "execute_result"
    }
   ],
   "source": [
    "a1 #bz its matrix so dimension will be two"
   ]
  },
  {
   "cell_type": "code",
   "execution_count": 104,
   "id": "fcd0ab4b-b3e3-4233-905a-6501fa8bc790",
   "metadata": {},
   "outputs": [],
   "source": [
    "#genearte randome numbers\n",
    "a1=np.random.rand(2,2,4) #3,4 are shape"
   ]
  },
  {
   "cell_type": "code",
   "execution_count": 106,
   "id": "d88e525f-f7d5-404e-8006-7745262d9fd2",
   "metadata": {},
   "outputs": [
    {
     "data": {
      "text/plain": [
       "array([[[0.81463115, 0.82791578, 0.99446356, 0.62791717],\n",
       "        [0.89137118, 0.4946008 , 0.87551175, 0.44497502]],\n",
       "\n",
       "       [[0.87293153, 0.3231247 , 0.97904023, 0.04979235],\n",
       "        [0.335767  , 0.10759539, 0.95265587, 0.84807383]]])"
      ]
     },
     "execution_count": 106,
     "metadata": {},
     "output_type": "execute_result"
    }
   ],
   "source": [
    "a1"
   ]
  },
  {
   "cell_type": "code",
   "execution_count": 108,
   "id": "1a8101a5-a71f-4274-8c0d-bd6d619e7d41",
   "metadata": {},
   "outputs": [
    {
     "data": {
      "text/plain": [
       "array([[7, 3, 4],\n",
       "       [7, 3, 4]])"
      ]
     },
     "execution_count": 108,
     "metadata": {},
     "output_type": "execute_result"
    }
   ],
   "source": [
    "a1=np.random.randint(8,size=(2,3)) #numbers will be between 1 to 7\n",
    "a1"
   ]
  },
  {
   "cell_type": "code",
   "execution_count": 110,
   "id": "0435da33-694c-4152-8273-c8ca5be09001",
   "metadata": {},
   "outputs": [
    {
     "data": {
      "text/plain": [
       "array([[13, 13, 11],\n",
       "       [10, 11, 11]])"
      ]
     },
     "execution_count": 110,
     "metadata": {},
     "output_type": "execute_result"
    }
   ],
   "source": [
    "a1=np.random.randint(10,15,size=(2,3)) #10 se 14 take\n",
    "a1"
   ]
  },
  {
   "cell_type": "markdown",
   "id": "7523505d-fc02-4348-9071-f212a48fef06",
   "metadata": {},
   "source": [
    "# indexing and slicing"
   ]
  },
  {
   "cell_type": "code",
   "execution_count": 4,
   "id": "5af38974-ad96-47c4-954f-0a7134f852d9",
   "metadata": {},
   "outputs": [
    {
     "data": {
      "text/plain": [
       "array([10, 20, 30, 40])"
      ]
     },
     "execution_count": 4,
     "metadata": {},
     "output_type": "execute_result"
    }
   ],
   "source": [
    "#one d array\n",
    "a=np.array([10,20,30,40])\n",
    "a"
   ]
  },
  {
   "cell_type": "code",
   "execution_count": 6,
   "id": "301887f8-46d0-4309-a2b2-8ecf2a2dca33",
   "metadata": {},
   "outputs": [
    {
     "name": "stdout",
     "output_type": "stream",
     "text": [
      "10\n",
      "20\n",
      "30\n",
      "40\n"
     ]
    }
   ],
   "source": [
    "for i in a:\n",
    "    print(i)"
   ]
  },
  {
   "cell_type": "code",
   "execution_count": 8,
   "id": "07fe7b9a-e15b-4073-b1b3-f6094865db60",
   "metadata": {},
   "outputs": [
    {
     "name": "stdout",
     "output_type": "stream",
     "text": [
      "20\n"
     ]
    }
   ],
   "source": [
    "print(a[1])"
   ]
  },
  {
   "cell_type": "code",
   "execution_count": 14,
   "id": "1c346a83-c17f-48ea-8afc-ac939708f5aa",
   "metadata": {},
   "outputs": [
    {
     "name": "stdout",
     "output_type": "stream",
     "text": [
      "40\n"
     ]
    }
   ],
   "source": [
    "print(a[3])"
   ]
  },
  {
   "cell_type": "code",
   "execution_count": 16,
   "id": "70a152cb-f9af-4480-a805-1db4b5a70090",
   "metadata": {},
   "outputs": [
    {
     "name": "stdout",
     "output_type": "stream",
     "text": [
      "40 30 20 10\n"
     ]
    }
   ],
   "source": [
    "print(a[-1],a[-2],a[-3],a[-4])"
   ]
  },
  {
   "cell_type": "code",
   "execution_count": 18,
   "id": "6d47361a-b4da-4eb8-9cfe-64ea386f1514",
   "metadata": {},
   "outputs": [
    {
     "name": "stdout",
     "output_type": "stream",
     "text": [
      "[[4 5]\n",
      " [3 6]]\n"
     ]
    }
   ],
   "source": [
    "#two d\n",
    "t=np.array([[4,5],[3,6]])\n",
    "print(t)"
   ]
  },
  {
   "cell_type": "code",
   "execution_count": 20,
   "id": "c90e1eec-8ba9-4c71-b6ab-794489a082ab",
   "metadata": {},
   "outputs": [
    {
     "data": {
      "text/plain": [
       "array([4, 5])"
      ]
     },
     "execution_count": 20,
     "metadata": {},
     "output_type": "execute_result"
    }
   ],
   "source": [
    "t[0]"
   ]
  },
  {
   "cell_type": "code",
   "execution_count": 22,
   "id": "87c2332d-a339-4236-a947-27fb7606d138",
   "metadata": {},
   "outputs": [
    {
     "data": {
      "text/plain": [
       "array([3, 6])"
      ]
     },
     "execution_count": 22,
     "metadata": {},
     "output_type": "execute_result"
    }
   ],
   "source": [
    "t[1]"
   ]
  },
  {
   "cell_type": "code",
   "execution_count": 24,
   "id": "544b7520-90a4-4f90-8b1e-d3880ad7dc3c",
   "metadata": {},
   "outputs": [
    {
     "data": {
      "text/plain": [
       "4"
      ]
     },
     "execution_count": 24,
     "metadata": {},
     "output_type": "execute_result"
    }
   ],
   "source": [
    "t[0][0]"
   ]
  },
  {
   "cell_type": "code",
   "execution_count": 26,
   "id": "6ab61aff-7f75-4b27-ae09-2ba80a0c0737",
   "metadata": {},
   "outputs": [
    {
     "data": {
      "text/plain": [
       "5"
      ]
     },
     "execution_count": 26,
     "metadata": {},
     "output_type": "execute_result"
    }
   ],
   "source": [
    "t[0][1]"
   ]
  },
  {
   "cell_type": "code",
   "execution_count": 28,
   "id": "2b33d314-e8ef-4af2-87b1-5fe43a28e446",
   "metadata": {},
   "outputs": [
    {
     "data": {
      "text/plain": [
       "3"
      ]
     },
     "execution_count": 28,
     "metadata": {},
     "output_type": "execute_result"
    }
   ],
   "source": [
    "t[1][0]"
   ]
  },
  {
   "cell_type": "code",
   "execution_count": 30,
   "id": "93ca9ad0-b298-4171-880b-4f684465697b",
   "metadata": {},
   "outputs": [
    {
     "data": {
      "text/plain": [
       "6"
      ]
     },
     "execution_count": 30,
     "metadata": {},
     "output_type": "execute_result"
    }
   ],
   "source": [
    "t[1][1]"
   ]
  },
  {
   "cell_type": "code",
   "execution_count": 34,
   "id": "24a544f0-5196-42b5-8a85-b411eef6e0f8",
   "metadata": {},
   "outputs": [
    {
     "data": {
      "text/plain": [
       "(5, 6, 3)"
      ]
     },
     "execution_count": 34,
     "metadata": {},
     "output_type": "execute_result"
    }
   ],
   "source": [
    "t[0,1],t[1,1],t[1,0]"
   ]
  },
  {
   "cell_type": "code",
   "execution_count": 36,
   "id": "63b16e81-3011-4d46-b458-19e04070d40a",
   "metadata": {},
   "outputs": [],
   "source": [
    "b=np.array([[[1,2],[3,4]],[[5,6],[7,8]]])"
   ]
  },
  {
   "cell_type": "code",
   "execution_count": 38,
   "id": "a46fbc98-eadd-48b2-8517-700309e22b86",
   "metadata": {},
   "outputs": [
    {
     "name": "stdout",
     "output_type": "stream",
     "text": [
      "[[[1 2]\n",
      "  [3 4]]\n",
      "\n",
      " [[5 6]\n",
      "  [7 8]]]\n"
     ]
    }
   ],
   "source": [
    "print(b)"
   ]
  },
  {
   "cell_type": "code",
   "execution_count": 42,
   "id": "31611c65-8c8c-46e4-8790-c0695e22e373",
   "metadata": {},
   "outputs": [
    {
     "data": {
      "text/plain": [
       "(2, 2, 2)"
      ]
     },
     "execution_count": 42,
     "metadata": {},
     "output_type": "execute_result"
    }
   ],
   "source": [
    "b.shape"
   ]
  },
  {
   "cell_type": "code",
   "execution_count": 44,
   "id": "e65dd99a-a7f5-4892-9f2c-5060f7fa619c",
   "metadata": {},
   "outputs": [
    {
     "data": {
      "text/plain": [
       "array([[1, 2],\n",
       "       [3, 4]])"
      ]
     },
     "execution_count": 44,
     "metadata": {},
     "output_type": "execute_result"
    }
   ],
   "source": [
    "b[0]"
   ]
  },
  {
   "cell_type": "code",
   "execution_count": 46,
   "id": "9cfe047a-4d08-419c-9af1-85e36883e2c0",
   "metadata": {},
   "outputs": [
    {
     "data": {
      "text/plain": [
       "array([[5, 6],\n",
       "       [7, 8]])"
      ]
     },
     "execution_count": 46,
     "metadata": {},
     "output_type": "execute_result"
    }
   ],
   "source": [
    "b[1]"
   ]
  },
  {
   "cell_type": "code",
   "execution_count": 54,
   "id": "379936af-c327-499a-a7e8-6303669e2b77",
   "metadata": {},
   "outputs": [
    {
     "data": {
      "text/plain": [
       "array([3, 4])"
      ]
     },
     "execution_count": 54,
     "metadata": {},
     "output_type": "execute_result"
    }
   ],
   "source": [
    "b[0,1]"
   ]
  },
  {
   "cell_type": "code",
   "execution_count": 56,
   "id": "4715b9e8-4660-48c2-9cdf-5b1884fc9ea3",
   "metadata": {},
   "outputs": [
    {
     "data": {
      "text/plain": [
       "array([7, 8])"
      ]
     },
     "execution_count": 56,
     "metadata": {},
     "output_type": "execute_result"
    }
   ],
   "source": [
    "b[1,1]"
   ]
  },
  {
   "cell_type": "code",
   "execution_count": 62,
   "id": "088a1f54-91e5-45e8-8a08-71d9abd9cc5b",
   "metadata": {},
   "outputs": [
    {
     "data": {
      "text/plain": [
       "(1, 8, 3, 6, 7)"
      ]
     },
     "execution_count": 62,
     "metadata": {},
     "output_type": "execute_result"
    }
   ],
   "source": [
    "b[0,0,0],b[1,1,1],b[0,1,0],b[1,0,1],b[1,1,0]"
   ]
  },
  {
   "cell_type": "code",
   "execution_count": 66,
   "id": "e0f913fe-8c56-437b-b12e-4fc340cfac00",
   "metadata": {},
   "outputs": [
    {
     "data": {
      "text/plain": [
       "array([1, 2])"
      ]
     },
     "execution_count": 66,
     "metadata": {},
     "output_type": "execute_result"
    }
   ],
   "source": [
    "b[0,0]"
   ]
  },
  {
   "cell_type": "code",
   "execution_count": 68,
   "id": "638e101f-033e-42d4-810d-e5f9ed039df5",
   "metadata": {},
   "outputs": [
    {
     "data": {
      "text/plain": [
       "8"
      ]
     },
     "execution_count": 68,
     "metadata": {},
     "output_type": "execute_result"
    }
   ],
   "source": [
    "b[-1,-1,-1]"
   ]
  },
  {
   "cell_type": "raw",
   "id": "3fe43a59-3aba-4799-8ae4-0eac8e767a38",
   "metadata": {},
   "source": [
    "#slicing ->array_name[beg:end:steps],beg's value is inclusive,end's value exclusive"
   ]
  },
  {
   "cell_type": "code",
   "execution_count": 72,
   "id": "eb57fa3e-ddf8-40e1-a029-dd5154e67f43",
   "metadata": {},
   "outputs": [
    {
     "data": {
      "text/plain": [
       "array([ 2,  4,  6,  8, 10])"
      ]
     },
     "execution_count": 72,
     "metadata": {},
     "output_type": "execute_result"
    }
   ],
   "source": [
    "a=np.array([2,4,6,8,10])\n",
    "a"
   ]
  },
  {
   "cell_type": "code",
   "execution_count": 74,
   "id": "aa318837-fb54-4b69-a881-c13647781680",
   "metadata": {},
   "outputs": [
    {
     "data": {
      "text/plain": [
       "array([4, 6, 8])"
      ]
     },
     "execution_count": 74,
     "metadata": {},
     "output_type": "execute_result"
    }
   ],
   "source": [
    "a[1:4:1]"
   ]
  },
  {
   "cell_type": "code",
   "execution_count": 76,
   "id": "6188f954-63a1-4cca-9b5c-22699cf98f2b",
   "metadata": {},
   "outputs": [
    {
     "data": {
      "text/plain": [
       "array([2, 4, 6, 8])"
      ]
     },
     "execution_count": 76,
     "metadata": {},
     "output_type": "execute_result"
    }
   ],
   "source": [
    "a[0:4:1]"
   ]
  },
  {
   "cell_type": "code",
   "execution_count": 78,
   "id": "99357301-5994-4216-b93d-3a77e13ee074",
   "metadata": {},
   "outputs": [
    {
     "data": {
      "text/plain": [
       "array([2, 6])"
      ]
     },
     "execution_count": 78,
     "metadata": {},
     "output_type": "execute_result"
    }
   ],
   "source": [
    "a[0:4:2]"
   ]
  },
  {
   "cell_type": "code",
   "execution_count": 82,
   "id": "b1c6cbc4-c287-4d4c-bc4a-77aec921e4d7",
   "metadata": {},
   "outputs": [
    {
     "data": {
      "text/plain": [
       "array([10,  8])"
      ]
     },
     "execution_count": 82,
     "metadata": {},
     "output_type": "execute_result"
    }
   ],
   "source": [
    "a[-1:-3:-1]"
   ]
  },
  {
   "cell_type": "code",
   "execution_count": 84,
   "id": "14f5dea8-46ef-4bd5-be23-ab3905cc4fcb",
   "metadata": {},
   "outputs": [
    {
     "data": {
      "text/plain": [
       "array([10,  6])"
      ]
     },
     "execution_count": 84,
     "metadata": {},
     "output_type": "execute_result"
    }
   ],
   "source": [
    "a[4:0:-2]"
   ]
  },
  {
   "cell_type": "code",
   "execution_count": 88,
   "id": "6f15bbda-e469-4a8b-a803-98ae2727d666",
   "metadata": {},
   "outputs": [
    {
     "data": {
      "text/plain": [
       "array([8, 6, 4, 2])"
      ]
     },
     "execution_count": 88,
     "metadata": {},
     "output_type": "execute_result"
    }
   ],
   "source": [
    "a[3::-1] #so you can start from keeping step value negative"
   ]
  },
  {
   "cell_type": "code",
   "execution_count": 96,
   "id": "479882b3-006d-45b2-901d-586eaaf35e07",
   "metadata": {},
   "outputs": [
    {
     "data": {
      "text/plain": [
       "array([10,  8,  6,  4,  2])"
      ]
     },
     "execution_count": 96,
     "metadata": {},
     "output_type": "execute_result"
    }
   ],
   "source": [
    "a[4::-1]"
   ]
  },
  {
   "cell_type": "code",
   "execution_count": 100,
   "id": "2f3fd58c-13b7-4994-beb7-86c09353edac",
   "metadata": {},
   "outputs": [
    {
     "data": {
      "text/plain": [
       "(array([10,  8,  6,  4,  2]), array([ 2,  4,  6,  8, 10]))"
      ]
     },
     "execution_count": 100,
     "metadata": {},
     "output_type": "execute_result"
    }
   ],
   "source": [
    "a[::-1],a[::1]"
   ]
  },
  {
   "cell_type": "code",
   "execution_count": 102,
   "id": "14de59d9-0551-4e97-b0c0-60b326b89e7e",
   "metadata": {},
   "outputs": [
    {
     "data": {
      "text/plain": [
       "array([[1, 2, 3],\n",
       "       [4, 5, 6],\n",
       "       [7, 8, 9]])"
      ]
     },
     "execution_count": 102,
     "metadata": {},
     "output_type": "execute_result"
    }
   ],
   "source": [
    "a=np.array([[1,2,3],[4,5,6],[7,8,9]])\n",
    "a"
   ]
  },
  {
   "cell_type": "code",
   "execution_count": 104,
   "id": "0268911b-1876-4879-98cd-33ba170d772c",
   "metadata": {},
   "outputs": [
    {
     "data": {
      "text/plain": [
       "array([[7, 8, 9],\n",
       "       [4, 5, 6],\n",
       "       [1, 2, 3]])"
      ]
     },
     "execution_count": 104,
     "metadata": {},
     "output_type": "execute_result"
    }
   ],
   "source": [
    "a[::-1]"
   ]
  },
  {
   "cell_type": "code",
   "execution_count": 108,
   "id": "c5fb68ba-486d-45e7-9058-58c17a6b0b69",
   "metadata": {},
   "outputs": [
    {
     "data": {
      "text/plain": [
       "(array([[4, 5, 6],\n",
       "        [7, 8, 9]]),\n",
       " array([[4, 5, 6],\n",
       "        [1, 2, 3]]))"
      ]
     },
     "execution_count": 108,
     "metadata": {},
     "output_type": "execute_result"
    }
   ],
   "source": [
    "a[1::1],a[1::-1]"
   ]
  },
  {
   "cell_type": "code",
   "execution_count": 110,
   "id": "02e2faf4-f6cd-4354-a4ec-d910e4bfd2fe",
   "metadata": {},
   "outputs": [
    {
     "data": {
      "text/plain": [
       "array([[4, 5, 6],\n",
       "       [7, 8, 9]])"
      ]
     },
     "execution_count": 110,
     "metadata": {},
     "output_type": "execute_result"
    }
   ],
   "source": [
    "a[1:3:1]"
   ]
  },
  {
   "cell_type": "code",
   "execution_count": 112,
   "id": "94bbdc32-6a19-44a5-8442-57a0cb7ffce8",
   "metadata": {},
   "outputs": [
    {
     "data": {
      "text/plain": [
       "array([[6, 5, 4],\n",
       "       [9, 8, 7]])"
      ]
     },
     "execution_count": 112,
     "metadata": {},
     "output_type": "execute_result"
    }
   ],
   "source": [
    "a[1:3:1,::-1]"
   ]
  },
  {
   "cell_type": "code",
   "execution_count": 114,
   "id": "a23eaf97-39f6-408a-821a-9a487fbc4310",
   "metadata": {},
   "outputs": [
    {
     "data": {
      "text/plain": [
       "array([[1]])"
      ]
     },
     "execution_count": 114,
     "metadata": {},
     "output_type": "execute_result"
    }
   ],
   "source": [
    "a[0:1:1,0:1:1]"
   ]
  },
  {
   "cell_type": "code",
   "execution_count": 130,
   "id": "df6648a2-461e-4afe-82a2-54eb7cf299bc",
   "metadata": {},
   "outputs": [
    {
     "data": {
      "text/plain": [
       "(array([[9]]), array([[2]]))"
      ]
     },
     "execution_count": 130,
     "metadata": {},
     "output_type": "execute_result"
    }
   ],
   "source": [
    "a[2::,2::],a[0:1:,1:2:]"
   ]
  },
  {
   "cell_type": "code",
   "execution_count": 134,
   "id": "d7f0b0f9-82b3-4049-a583-2f338fe36438",
   "metadata": {},
   "outputs": [
    {
     "data": {
      "text/plain": [
       "array([[7]])"
      ]
     },
     "execution_count": 134,
     "metadata": {},
     "output_type": "execute_result"
    }
   ],
   "source": [
    "a[2::,0:1:]"
   ]
  },
  {
   "cell_type": "code",
   "execution_count": 140,
   "id": "8c28daf6-7f56-42bc-ae58-140f06f3fa41",
   "metadata": {},
   "outputs": [
    {
     "data": {
      "text/plain": [
       "array([6, 5, 4])"
      ]
     },
     "execution_count": 140,
     "metadata": {},
     "output_type": "execute_result"
    }
   ],
   "source": [
    "a[1,::-1]"
   ]
  },
  {
   "cell_type": "code",
   "execution_count": 146,
   "id": "4ae49fd0-b1dc-498c-92fd-697f72e21bed",
   "metadata": {},
   "outputs": [
    {
     "data": {
      "text/plain": [
       "(array([7]), array([6]))"
      ]
     },
     "execution_count": 146,
     "metadata": {},
     "output_type": "execute_result"
    }
   ],
   "source": [
    "a[2,0:1:],a[1,2::]"
   ]
  },
  {
   "cell_type": "code",
   "execution_count": 148,
   "id": "56930261-aea0-433e-a0eb-14a710c42250",
   "metadata": {},
   "outputs": [
    {
     "data": {
      "text/plain": [
       "array([[2, 3],\n",
       "       [5, 6]])"
      ]
     },
     "execution_count": 148,
     "metadata": {},
     "output_type": "execute_result"
    }
   ],
   "source": [
    "a[0:2,1::1]"
   ]
  },
  {
   "cell_type": "markdown",
   "id": "0b9d7a38-6b6d-4d6b-9f54-23cb2b313206",
   "metadata": {},
   "source": [
    "# functions"
   ]
  },
  {
   "cell_type": "code",
   "execution_count": 151,
   "id": "91fd156a-3f03-4eb3-9dfd-340efc2ece7c",
   "metadata": {},
   "outputs": [
    {
     "data": {
      "text/plain": [
       "array([[1, 2, 3],\n",
       "       [4, 5, 6],\n",
       "       [7, 8, 9]])"
      ]
     },
     "execution_count": 151,
     "metadata": {},
     "output_type": "execute_result"
    }
   ],
   "source": [
    "a1=np.array([[1,2,3],[4,5,6],[7,8,9]])\n",
    "a1"
   ]
  },
  {
   "cell_type": "markdown",
   "id": "ea3a4fa8-ccfd-4d87-acdd-49c477149c12",
   "metadata": {},
   "source": [
    "# statistics related functions"
   ]
  },
  {
   "cell_type": "code",
   "execution_count": 153,
   "id": "ee5a1feb-8007-482a-9994-acf63b9299ec",
   "metadata": {},
   "outputs": [
    {
     "name": "stdout",
     "output_type": "stream",
     "text": [
      "5.0\n"
     ]
    }
   ],
   "source": [
    "#arithmetic mean\n",
    "print(a1.mean())"
   ]
  },
  {
   "cell_type": "code",
   "execution_count": 155,
   "id": "708b3ddc-0ca1-4ebc-a159-dc57cf8623e7",
   "metadata": {},
   "outputs": [
    {
     "data": {
      "text/plain": [
       "array([1, 5, 9])"
      ]
     },
     "execution_count": 155,
     "metadata": {},
     "output_type": "execute_result"
    }
   ],
   "source": [
    "#matrix \n",
    "#principal diagonal\n",
    "a1.diagonal()"
   ]
  },
  {
   "cell_type": "code",
   "execution_count": 157,
   "id": "a9c31872-ddec-4df5-8fdc-e670407057a5",
   "metadata": {},
   "outputs": [
    {
     "data": {
      "text/plain": [
       "15"
      ]
     },
     "execution_count": 157,
     "metadata": {},
     "output_type": "execute_result"
    }
   ],
   "source": [
    "#trace->sum of diagonal\n",
    "a1.trace()"
   ]
  },
  {
   "cell_type": "code",
   "execution_count": 159,
   "id": "d2558263-cd51-40a9-9263-6a1fa72fd500",
   "metadata": {},
   "outputs": [
    {
     "data": {
      "text/plain": [
       "array([[1, 2, 3],\n",
       "       [4, 5, 6],\n",
       "       [7, 8, 9]])"
      ]
     },
     "execution_count": 159,
     "metadata": {},
     "output_type": "execute_result"
    }
   ],
   "source": [
    "#transpose of matrix->rows and columns interchange or inter replac\n",
    "a1\n"
   ]
  },
  {
   "cell_type": "code",
   "execution_count": 161,
   "id": "d8de1ebe-7c93-49c2-8bc5-c1064baf417c",
   "metadata": {},
   "outputs": [
    {
     "data": {
      "text/plain": [
       "array([[1, 4, 7],\n",
       "       [2, 5, 8],\n",
       "       [3, 6, 9]])"
      ]
     },
     "execution_count": 161,
     "metadata": {},
     "output_type": "execute_result"
    }
   ],
   "source": [
    "a1.transpose()"
   ]
  },
  {
   "cell_type": "code",
   "execution_count": 163,
   "id": "e211842b-9cd0-4d70-9045-d8c87d00faf4",
   "metadata": {},
   "outputs": [
    {
     "data": {
      "text/plain": [
       "1"
      ]
     },
     "execution_count": 163,
     "metadata": {},
     "output_type": "execute_result"
    }
   ],
   "source": [
    "#min&max values ->here dimensions dont matter\n",
    "a1.min()"
   ]
  },
  {
   "cell_type": "code",
   "execution_count": 165,
   "id": "702d4bc1-63b1-496c-ad14-fc55e609c246",
   "metadata": {},
   "outputs": [
    {
     "data": {
      "text/plain": [
       "9"
      ]
     },
     "execution_count": 165,
     "metadata": {},
     "output_type": "execute_result"
    }
   ],
   "source": [
    "a1.max()"
   ]
  },
  {
   "cell_type": "code",
   "execution_count": 169,
   "id": "b6002d0f-263f-4152-ac04-679e6b190067",
   "metadata": {},
   "outputs": [
    {
     "data": {
      "text/plain": [
       "8"
      ]
     },
     "execution_count": 169,
     "metadata": {},
     "output_type": "execute_result"
    }
   ],
   "source": [
    "#if you want gap/difference between the max value and min value of matrix->ptp(peek-to-peek)\n",
    "a1.ptp() #max-min"
   ]
  },
  {
   "cell_type": "code",
   "execution_count": 171,
   "id": "10600bbe-3a62-4090-8532-91787845fe66",
   "metadata": {},
   "outputs": [
    {
     "data": {
      "text/plain": [
       "45"
      ]
     },
     "execution_count": 171,
     "metadata": {},
     "output_type": "execute_result"
    }
   ],
   "source": [
    "#add all values of matrix\n",
    "a1.sum()"
   ]
  },
  {
   "cell_type": "code",
   "execution_count": 173,
   "id": "cd6e9c33-40c8-45bc-a095-6b61597b4f8b",
   "metadata": {},
   "outputs": [
    {
     "data": {
      "text/plain": [
       "362880"
      ]
     },
     "execution_count": 173,
     "metadata": {},
     "output_type": "execute_result"
    }
   ],
   "source": [
    "#multiplication of matrix values\n",
    "a1.prod()"
   ]
  },
  {
   "cell_type": "code",
   "execution_count": 175,
   "id": "fb869295-0d7a-4ab2-83e8-f03074f5fdd3",
   "metadata": {},
   "outputs": [
    {
     "data": {
      "text/plain": [
       "2.581988897471611"
      ]
     },
     "execution_count": 175,
     "metadata": {},
     "output_type": "execute_result"
    }
   ],
   "source": [
    "#standard deviation\n",
    "a1.std()"
   ]
  },
  {
   "cell_type": "code",
   "execution_count": 177,
   "id": "baab66f5-cf15-4c15-87a8-aa97b14123de",
   "metadata": {},
   "outputs": [
    {
     "data": {
      "text/plain": [
       "6.666666666666667"
      ]
     },
     "execution_count": 177,
     "metadata": {},
     "output_type": "execute_result"
    }
   ],
   "source": [
    "#varience\n",
    "a1.var()"
   ]
  },
  {
   "cell_type": "markdown",
   "id": "cd5af586-9d7c-4cae-a4cf-bdc59347c075",
   "metadata": {},
   "source": [
    "# functions for reshaping"
   ]
  },
  {
   "cell_type": "code",
   "execution_count": 181,
   "id": "a9f586e3-0d57-49f9-8e35-ba5d922573a5",
   "metadata": {},
   "outputs": [
    {
     "data": {
      "text/plain": [
       "array([[1, 2, 3],\n",
       "       [4, 5, 6],\n",
       "       [7, 8, 9]])"
      ]
     },
     "execution_count": 181,
     "metadata": {},
     "output_type": "execute_result"
    }
   ],
   "source": [
    "a1"
   ]
  },
  {
   "cell_type": "code",
   "execution_count": 185,
   "id": "0904bca2-3548-4549-bdc1-c390bcdef1e0",
   "metadata": {},
   "outputs": [
    {
     "data": {
      "text/plain": [
       "9"
      ]
     },
     "execution_count": 185,
     "metadata": {},
     "output_type": "execute_result"
    }
   ],
   "source": [
    "a1.size"
   ]
  },
  {
   "cell_type": "code",
   "execution_count": 187,
   "id": "07a11b10-24a3-4846-8aa1-9c2b50c93f70",
   "metadata": {},
   "outputs": [
    {
     "data": {
      "text/plain": [
       "(3, 3)"
      ]
     },
     "execution_count": 187,
     "metadata": {},
     "output_type": "execute_result"
    }
   ],
   "source": [
    "a1.shape #3 1d and in it 3 values"
   ]
  },
  {
   "cell_type": "code",
   "execution_count": 201,
   "id": "f2bcd83f-b78d-4838-93ec-49c8e9888cd1",
   "metadata": {},
   "outputs": [
    {
     "data": {
      "text/plain": [
       "2"
      ]
     },
     "execution_count": 201,
     "metadata": {},
     "output_type": "execute_result"
    }
   ],
   "source": [
    "a1.ndim"
   ]
  },
  {
   "cell_type": "code",
   "execution_count": 203,
   "id": "3c32bc18-7575-4e04-8b36-9977b04c065f",
   "metadata": {},
   "outputs": [
    {
     "data": {
      "text/plain": [
       "array([[1, 2, 3, 4, 5, 6, 7, 8, 9]])"
      ]
     },
     "execution_count": 203,
     "metadata": {},
     "output_type": "execute_result"
    }
   ],
   "source": [
    "#you wanna change this shape\n",
    "a1.reshape([1,9])"
   ]
  },
  {
   "cell_type": "code",
   "execution_count": 205,
   "id": "26ddb501-7682-4c49-8ca6-5697b208cd41",
   "metadata": {},
   "outputs": [
    {
     "data": {
      "text/plain": [
       "array([[1],\n",
       "       [2],\n",
       "       [3],\n",
       "       [4],\n",
       "       [5],\n",
       "       [6],\n",
       "       [7],\n",
       "       [8],\n",
       "       [9]])"
      ]
     },
     "execution_count": 205,
     "metadata": {},
     "output_type": "execute_result"
    }
   ],
   "source": [
    "a1.reshape([9,1])"
   ]
  },
  {
   "cell_type": "code",
   "execution_count": 3,
   "id": "150b6846-5a81-4584-8e84-50ec5fcbcc85",
   "metadata": {},
   "outputs": [],
   "source": [
    "a=np.array([[[1,2],[3,4]],[[5,6],[7,8]]])"
   ]
  },
  {
   "cell_type": "code",
   "execution_count": 5,
   "id": "f30666b5-645d-41d3-9267-4b0a956fb90d",
   "metadata": {},
   "outputs": [
    {
     "data": {
      "text/plain": [
       "array([[[1, 2],\n",
       "        [3, 4]],\n",
       "\n",
       "       [[5, 6],\n",
       "        [7, 8]]])"
      ]
     },
     "execution_count": 5,
     "metadata": {},
     "output_type": "execute_result"
    }
   ],
   "source": [
    "a"
   ]
  },
  {
   "cell_type": "code",
   "execution_count": 11,
   "id": "aa74d350-05f8-4bdd-912e-d6efa5f84de7",
   "metadata": {},
   "outputs": [
    {
     "data": {
      "text/plain": [
       "array([[1, 2, 3, 4],\n",
       "       [5, 6, 7, 8]])"
      ]
     },
     "execution_count": 11,
     "metadata": {},
     "output_type": "execute_result"
    }
   ],
   "source": [
    "a.reshape([2,4])"
   ]
  },
  {
   "cell_type": "code",
   "execution_count": 13,
   "id": "fb042b45-9b8d-4d05-84f2-4cd450cb1b79",
   "metadata": {},
   "outputs": [],
   "source": [
    "a1=np.array([[1,2,3],[4,5,6],[7,8,9]])"
   ]
  },
  {
   "cell_type": "code",
   "execution_count": 15,
   "id": "e878d185-29ca-4a77-a724-220bb6e2a9a9",
   "metadata": {},
   "outputs": [
    {
     "data": {
      "text/plain": [
       "array([[1, 2, 3],\n",
       "       [4, 5, 6],\n",
       "       [7, 8, 9]])"
      ]
     },
     "execution_count": 15,
     "metadata": {},
     "output_type": "execute_result"
    }
   ],
   "source": [
    "a1"
   ]
  },
  {
   "cell_type": "code",
   "execution_count": 17,
   "id": "bfbf397b-96e0-4648-ab5d-1936b2b92b71",
   "metadata": {},
   "outputs": [],
   "source": [
    "a2=a1.flatten() #flatten() a fun by which u can have 1d matrix of any dimension"
   ]
  },
  {
   "cell_type": "code",
   "execution_count": 19,
   "id": "a64187e6-df8a-41c0-9b46-e4928b8fbac6",
   "metadata": {},
   "outputs": [
    {
     "data": {
      "text/plain": [
       "array([1, 2, 3, 4, 5, 6, 7, 8, 9])"
      ]
     },
     "execution_count": 19,
     "metadata": {},
     "output_type": "execute_result"
    }
   ],
   "source": [
    "a2"
   ]
  },
  {
   "cell_type": "code",
   "execution_count": 21,
   "id": "f2d416aa-7976-4f39-9b65-32cd0a46abff",
   "metadata": {},
   "outputs": [
    {
     "data": {
      "text/plain": [
       "array([1, 2, 3, 4, 5, 6, 7, 8, 9])"
      ]
     },
     "execution_count": 21,
     "metadata": {},
     "output_type": "execute_result"
    }
   ],
   "source": [
    "#another method\n",
    "a3=a1.ravel()\n",
    "a3"
   ]
  },
  {
   "cell_type": "code",
   "execution_count": 23,
   "id": "be4ac7c3-17e7-4f06-ac68-ea3385e67e42",
   "metadata": {},
   "outputs": [
    {
     "data": {
      "text/plain": [
       "array([25,  2,  3,  4,  5,  6,  7,  8,  9])"
      ]
     },
     "execution_count": 23,
     "metadata": {},
     "output_type": "execute_result"
    }
   ],
   "source": [
    "#difference between both\n",
    "a2[0]=25\n",
    "a2"
   ]
  },
  {
   "cell_type": "code",
   "execution_count": 25,
   "id": "badf4f62-25a8-4b3f-be8a-da80f3425959",
   "metadata": {},
   "outputs": [
    {
     "data": {
      "text/plain": [
       "array([[1, 2, 3],\n",
       "       [4, 5, 6],\n",
       "       [7, 8, 9]])"
      ]
     },
     "execution_count": 25,
     "metadata": {},
     "output_type": "execute_result"
    }
   ],
   "source": [
    "a1"
   ]
  },
  {
   "cell_type": "code",
   "execution_count": 27,
   "id": "64164535-8e39-4f93-97f2-ea4bd8cac548",
   "metadata": {},
   "outputs": [],
   "source": [
    "#in above code change in a2 dint affected change in a1\n"
   ]
  },
  {
   "cell_type": "code",
   "execution_count": 31,
   "id": "e69d7f43-6889-43ad-9dd9-acfec53f9e8c",
   "metadata": {},
   "outputs": [
    {
     "data": {
      "text/plain": [
       "array([25,  2,  3,  4,  5,  6,  7,  8,  9])"
      ]
     },
     "execution_count": 31,
     "metadata": {},
     "output_type": "execute_result"
    }
   ],
   "source": [
    "a3[0]=25\n",
    "a3\n"
   ]
  },
  {
   "cell_type": "code",
   "execution_count": 33,
   "id": "cb620259-b218-4f7a-a773-c99919455be3",
   "metadata": {},
   "outputs": [
    {
     "data": {
      "text/plain": [
       "array([[25,  2,  3],\n",
       "       [ 4,  5,  6],\n",
       "       [ 7,  8,  9]])"
      ]
     },
     "execution_count": 33,
     "metadata": {},
     "output_type": "execute_result"
    }
   ],
   "source": [
    "a1"
   ]
  },
  {
   "cell_type": "code",
   "execution_count": 35,
   "id": "76ceaebf-5f41-4a3f-86e6-616c1c2a499b",
   "metadata": {},
   "outputs": [],
   "source": [
    "#so here is the difference a3 if used ravel() so it will make change in original matrix as well"
   ]
  },
  {
   "cell_type": "code",
   "execution_count": 37,
   "id": "c125e2bb-a411-4421-8615-98606acc1f14",
   "metadata": {},
   "outputs": [],
   "source": [
    "#so a2 made the copy of a1,and a3[is a view of a1 as 1d] ravel() changed the view of a1 in 1d its still in 2d array"
   ]
  },
  {
   "cell_type": "code",
   "execution_count": 39,
   "id": "eee1696c-4668-4dbb-a8e2-2a9686ca6ac9",
   "metadata": {},
   "outputs": [
    {
     "data": {
      "text/plain": [
       "array([1, 2, 3, 4])"
      ]
     },
     "execution_count": 39,
     "metadata": {},
     "output_type": "execute_result"
    }
   ],
   "source": [
    "#copy() and view() functions\n",
    "a=np.array([1,2,3,4])\n",
    "a"
   ]
  },
  {
   "cell_type": "code",
   "execution_count": 43,
   "id": "448a1190-0611-439f-b1bc-9fc68101c2eb",
   "metadata": {},
   "outputs": [
    {
     "data": {
      "text/plain": [
       "array([1, 2, 3, 4])"
      ]
     },
     "execution_count": 43,
     "metadata": {},
     "output_type": "execute_result"
    }
   ],
   "source": [
    "b1=a.copy()\n",
    "b1"
   ]
  },
  {
   "cell_type": "code",
   "execution_count": 45,
   "id": "d9da754e-14cf-41d9-b3e6-443e8c65ee8f",
   "metadata": {},
   "outputs": [],
   "source": [
    "b1[0]=90"
   ]
  },
  {
   "cell_type": "code",
   "execution_count": 47,
   "id": "b0eda961-9aed-4cc6-a88e-92efd731d06a",
   "metadata": {},
   "outputs": [
    {
     "data": {
      "text/plain": [
       "array([90,  2,  3,  4])"
      ]
     },
     "execution_count": 47,
     "metadata": {},
     "output_type": "execute_result"
    }
   ],
   "source": [
    "b1"
   ]
  },
  {
   "cell_type": "code",
   "execution_count": 49,
   "id": "d3e401c6-d249-4db4-9f51-c2389f7fe2b3",
   "metadata": {},
   "outputs": [
    {
     "data": {
      "text/plain": [
       "array([1, 2, 3, 4])"
      ]
     },
     "execution_count": 49,
     "metadata": {},
     "output_type": "execute_result"
    }
   ],
   "source": [
    "a #no change in array"
   ]
  },
  {
   "cell_type": "code",
   "execution_count": 51,
   "id": "23ab9539-8ffe-413b-810a-0308fb65e308",
   "metadata": {},
   "outputs": [
    {
     "data": {
      "text/plain": [
       "array([1, 2, 3, 4])"
      ]
     },
     "execution_count": 51,
     "metadata": {},
     "output_type": "execute_result"
    }
   ],
   "source": [
    "b=np.array([1,2,3,4])\n",
    "b"
   ]
  },
  {
   "cell_type": "code",
   "execution_count": 53,
   "id": "916f9d89-ff57-4beb-9180-37b06ef8d117",
   "metadata": {},
   "outputs": [
    {
     "data": {
      "text/plain": [
       "array([1, 2, 3, 4])"
      ]
     },
     "execution_count": 53,
     "metadata": {},
     "output_type": "execute_result"
    }
   ],
   "source": [
    "c=b.view()\n",
    "c"
   ]
  },
  {
   "cell_type": "code",
   "execution_count": 55,
   "id": "44a99b68-d89d-49e1-b949-3d6697605483",
   "metadata": {},
   "outputs": [
    {
     "data": {
      "text/plain": [
       "array([34,  2,  3,  4])"
      ]
     },
     "execution_count": 55,
     "metadata": {},
     "output_type": "execute_result"
    }
   ],
   "source": [
    "c[0]=34\n",
    "c"
   ]
  },
  {
   "cell_type": "code",
   "execution_count": 57,
   "id": "3754199d-e2d6-4c4f-b203-2e11de66a2c7",
   "metadata": {},
   "outputs": [
    {
     "data": {
      "text/plain": [
       "array([34,  2,  3,  4])"
      ]
     },
     "execution_count": 57,
     "metadata": {},
     "output_type": "execute_result"
    }
   ],
   "source": [
    "b #change in original array"
   ]
  },
  {
   "cell_type": "markdown",
   "id": "7a16956f-e0db-411d-aa60-eb2589d1e56e",
   "metadata": {},
   "source": [
    "#check who owns the data=\"base\",if the array has data it will return the original one and if no data owned so none,here copy doesn own the data,view owns the data"
   ]
  },
  {
   "cell_type": "code",
   "execution_count": 65,
   "id": "8803221d-fe7b-43e3-abab-182c067c5342",
   "metadata": {},
   "outputs": [],
   "source": [
    "a1=np.array([1,2,3,4])\n",
    "a2=a1.copy()\n",
    "a3=a1.view()"
   ]
  },
  {
   "cell_type": "code",
   "execution_count": 69,
   "id": "f77cd1a7-7212-4404-892b-8ef2158b9cf2",
   "metadata": {},
   "outputs": [
    {
     "name": "stdout",
     "output_type": "stream",
     "text": [
      "None\n"
     ]
    }
   ],
   "source": [
    "print(a2.base)"
   ]
  },
  {
   "cell_type": "code",
   "execution_count": 67,
   "id": "d58a38bd-fa62-4015-9867-df9e400d80c3",
   "metadata": {},
   "outputs": [
    {
     "name": "stdout",
     "output_type": "stream",
     "text": [
      "[1 2 3 4]\n"
     ]
    }
   ],
   "source": [
    "print(a3.base)"
   ]
  },
  {
   "cell_type": "code",
   "execution_count": 71,
   "id": "6350a7c6-76a9-466a-a701-6080b53fdf83",
   "metadata": {},
   "outputs": [
    {
     "name": "stdout",
     "output_type": "stream",
     "text": [
      "None\n"
     ]
    }
   ],
   "source": [
    "print(b1.base)"
   ]
  },
  {
   "cell_type": "markdown",
   "id": "e565e943-f4e9-430e-afad-45be58187200",
   "metadata": {},
   "source": [
    "# sort"
   ]
  },
  {
   "cell_type": "code",
   "execution_count": 84,
   "id": "650cfe73-a0bc-4be5-b706-eced5e34e3e5",
   "metadata": {},
   "outputs": [
    {
     "data": {
      "text/plain": [
       "array([ 6,  3,  2,  0, 68, 39])"
      ]
     },
     "execution_count": 84,
     "metadata": {},
     "output_type": "execute_result"
    }
   ],
   "source": [
    "a=np.array([6,3,2,0,68,39])\n",
    "a\n"
   ]
  },
  {
   "cell_type": "code",
   "execution_count": 86,
   "id": "67d769ee-f790-4a47-9fc4-8789b3a28b4f",
   "metadata": {},
   "outputs": [
    {
     "data": {
      "text/plain": [
       "array([ 0,  2,  3,  6, 39, 68])"
      ]
     },
     "execution_count": 86,
     "metadata": {},
     "output_type": "execute_result"
    }
   ],
   "source": [
    "a.sort()\n",
    "a"
   ]
  },
  {
   "cell_type": "code",
   "execution_count": 88,
   "id": "26c77ba2-972f-45c0-9588-90b2d7404971",
   "metadata": {},
   "outputs": [
    {
     "data": {
      "text/plain": [
       "array([[3, 2, 4],\n",
       "       [5, 4, 1],\n",
       "       [8, 6, 5]])"
      ]
     },
     "execution_count": 88,
     "metadata": {},
     "output_type": "execute_result"
    }
   ],
   "source": [
    "c1=np.array([[3,2,4],[5,4,1],[8,6,5]])\n",
    "c1"
   ]
  },
  {
   "cell_type": "code",
   "execution_count": 90,
   "id": "c82628d5-4968-46fc-aa57-4fa63eea5a85",
   "metadata": {},
   "outputs": [
    {
     "data": {
      "text/plain": [
       "array([[2, 3, 4],\n",
       "       [1, 4, 5],\n",
       "       [5, 6, 8]])"
      ]
     },
     "execution_count": 90,
     "metadata": {},
     "output_type": "execute_result"
    }
   ],
   "source": [
    "c1.sort()\n",
    "c1"
   ]
  },
  {
   "cell_type": "code",
   "execution_count": 92,
   "id": "da9178e0-59ac-46ec-82f7-f5fff7d654f4",
   "metadata": {},
   "outputs": [
    {
     "data": {
      "text/plain": [
       "array([[1, 2, 3],\n",
       "       [4, 5, 6]])"
      ]
     },
     "execution_count": 92,
     "metadata": {},
     "output_type": "execute_result"
    }
   ],
   "source": [
    "d1=np.array([[1,2,3],[4,5,6]])\n",
    "d1"
   ]
  },
  {
   "cell_type": "code",
   "execution_count": 94,
   "id": "505a360e-10da-4d9f-adc4-3e2ba757f792",
   "metadata": {},
   "outputs": [
    {
     "data": {
      "text/plain": [
       "6"
      ]
     },
     "execution_count": 94,
     "metadata": {},
     "output_type": "execute_result"
    }
   ],
   "source": [
    "#resize function->changing number of elements so you have to tell new shape to it\n",
    "d1.size"
   ]
  },
  {
   "cell_type": "code",
   "execution_count": 115,
   "id": "3f310a55-0e7a-469a-9b62-b1e81f474906",
   "metadata": {},
   "outputs": [],
   "source": [
    "d1.resize((3,4),refcheck=False)"
   ]
  },
  {
   "cell_type": "code",
   "execution_count": 117,
   "id": "a8a7baaa-61c9-4b1c-88a6-bdc560b93459",
   "metadata": {},
   "outputs": [
    {
     "data": {
      "text/plain": [
       "array([[1, 2, 3, 4],\n",
       "       [5, 6, 0, 0],\n",
       "       [0, 0, 0, 0]])"
      ]
     },
     "execution_count": 117,
     "metadata": {},
     "output_type": "execute_result"
    }
   ],
   "source": [
    "d1"
   ]
  },
  {
   "cell_type": "code",
   "execution_count": 119,
   "id": "00d14c62-6632-48f9-b99a-1c1b81e881b8",
   "metadata": {},
   "outputs": [
    {
     "data": {
      "text/plain": [
       "array([[1],\n",
       "       [2],\n",
       "       [3],\n",
       "       [4]])"
      ]
     },
     "execution_count": 119,
     "metadata": {},
     "output_type": "execute_result"
    }
   ],
   "source": [
    "d1.resize((4,1),refcheck=False)\n",
    "d1"
   ]
  },
  {
   "cell_type": "markdown",
   "id": "6ede1b59-9e7b-4344-aee1-6427a0cdfb03",
   "metadata": {},
   "source": [
    " # array manipulation"
   ]
  },
  {
   "cell_type": "code",
   "execution_count": 4,
   "id": "ad4296b1-ffd3-425f-aff9-83f6e5253fd2",
   "metadata": {},
   "outputs": [
    {
     "data": {
      "text/plain": [
       "array([[ 3,  4,  5],\n",
       "       [ 5,  6,  7],\n",
       "       [ 8,  9, 10]])"
      ]
     },
     "execution_count": 4,
     "metadata": {},
     "output_type": "execute_result"
    }
   ],
   "source": [
    "a=np.array([[1,2,3],[4,5,6],[7,8,9]])\n",
    "a1=np.array([[2,2,2],[1,1,1],[1,1,1]])\n",
    "a+a1"
   ]
  },
  {
   "cell_type": "code",
   "execution_count": 6,
   "id": "511780e5-48b6-4ba1-8fcd-87f34ef4f2cc",
   "metadata": {},
   "outputs": [
    {
     "data": {
      "text/plain": [
       "array([[-1,  0,  1],\n",
       "       [ 3,  4,  5],\n",
       "       [ 6,  7,  8]])"
      ]
     },
     "execution_count": 6,
     "metadata": {},
     "output_type": "execute_result"
    }
   ],
   "source": [
    "a-a1"
   ]
  },
  {
   "cell_type": "code",
   "execution_count": 8,
   "id": "89af12b0-5f9f-4316-b4a2-7e670eeb41d1",
   "metadata": {},
   "outputs": [
    {
     "data": {
      "text/plain": [
       "array([[2, 4, 6],\n",
       "       [4, 5, 6],\n",
       "       [7, 8, 9]])"
      ]
     },
     "execution_count": 8,
     "metadata": {},
     "output_type": "execute_result"
    }
   ],
   "source": [
    "a*a1 #this tsis not matrix multiplication but multiplication of corrosponding elements"
   ]
  },
  {
   "cell_type": "code",
   "execution_count": 10,
   "id": "edbc81d7-62de-40e1-bb8e-1a0480fdd130",
   "metadata": {},
   "outputs": [
    {
     "data": {
      "text/plain": [
       "array([[1, 0, 1],\n",
       "       [0, 1, 0],\n",
       "       [1, 0, 1]], dtype=int32)"
      ]
     },
     "execution_count": 10,
     "metadata": {},
     "output_type": "execute_result"
    }
   ],
   "source": [
    "a%2"
   ]
  },
  {
   "cell_type": "code",
   "execution_count": 12,
   "id": "321bb50e-d30f-45b3-a9ff-dfcc5266faa5",
   "metadata": {},
   "outputs": [
    {
     "name": "stdout",
     "output_type": "stream",
     "text": [
      "[1 2 3]\n",
      "[4 5 6]\n",
      "[7 8 9]\n"
     ]
    }
   ],
   "source": [
    "#iterate values\n",
    "for i in a:\n",
    "    print(i)"
   ]
  },
  {
   "cell_type": "code",
   "execution_count": 18,
   "id": "afa96d8a-df3e-4526-8595-9258df943f0b",
   "metadata": {},
   "outputs": [
    {
     "name": "stdout",
     "output_type": "stream",
     "text": [
      "1 2 3 4 5 6 7 8 9 "
     ]
    }
   ],
   "source": [
    "for i in a:\n",
    "    for j in i:\n",
    "        print(j,end=' ')"
   ]
  },
  {
   "cell_type": "code",
   "execution_count": 22,
   "id": "c0a0a632-337c-457b-bd12-7556375ebe87",
   "metadata": {},
   "outputs": [
    {
     "name": "stdout",
     "output_type": "stream",
     "text": [
      "1\n",
      "2\n",
      "3\n",
      "4\n",
      "5\n",
      "6\n",
      "7\n",
      "8\n",
      "9\n"
     ]
    }
   ],
   "source": [
    "#if there are many dimension\n",
    "for i in np.nditer(a): #this nditer doesnt care about dimensions of array this only direct gives each element of array\n",
    "    print(i)"
   ]
  },
  {
   "cell_type": "code",
   "execution_count": 24,
   "id": "b2c14e7b-51b4-44b7-a662-ff1be3ac69f1",
   "metadata": {},
   "outputs": [],
   "source": [
    "f=np.array([[[1,2],[3,4]],[[3,4],[5,6]]])"
   ]
  },
  {
   "cell_type": "code",
   "execution_count": 26,
   "id": "90c06918-c0e9-4c23-b074-0833d429e467",
   "metadata": {},
   "outputs": [
    {
     "name": "stdout",
     "output_type": "stream",
     "text": [
      "1 2 3 4 3 4 5 6 "
     ]
    }
   ],
   "source": [
    "for i in np.nditer(f):\n",
    "    print(i,end=' ')"
   ]
  },
  {
   "cell_type": "code",
   "execution_count": 30,
   "id": "ea9f4b0f-43da-4d1c-86db-5f84f138dde5",
   "metadata": {},
   "outputs": [
    {
     "name": "stdout",
     "output_type": "stream",
     "text": [
      "(0, 0, 0) 1\n",
      "(0, 0, 1) 2\n",
      "(0, 1, 0) 3\n",
      "(0, 1, 1) 4\n",
      "(1, 0, 0) 3\n",
      "(1, 0, 1) 4\n",
      "(1, 1, 0) 5\n",
      "(1, 1, 1) 6\n"
     ]
    }
   ],
   "source": [
    "#if u want to know elements's index->ndenumarate\n",
    "for i,e in np.ndenumerate(f):\n",
    "    print(i,e)"
   ]
  },
  {
   "cell_type": "code",
   "execution_count": 32,
   "id": "74cca02c-04bd-4952-bdbd-44e13421d622",
   "metadata": {},
   "outputs": [],
   "source": [
    "#join arrays\n",
    "s=np.array([10,20,30])\n",
    "t=np.array([3,5,15])\n",
    "d=np.concatenate((s,t))"
   ]
  },
  {
   "cell_type": "code",
   "execution_count": 34,
   "id": "324b920a-42e9-4956-991b-e7941b053fac",
   "metadata": {},
   "outputs": [
    {
     "data": {
      "text/plain": [
       "array([10, 20, 30,  3,  5, 15])"
      ]
     },
     "execution_count": 34,
     "metadata": {},
     "output_type": "execute_result"
    }
   ],
   "source": [
    "d"
   ]
  },
  {
   "cell_type": "code",
   "execution_count": 44,
   "id": "0786c722-cfe8-4261-a5fc-aab40afb2397",
   "metadata": {},
   "outputs": [],
   "source": [
    "e=np.array([[1,2,3],[4,5,6]])\n",
    "r=np.array([[40,50,60],[9,8,7]])\n",
    "e1=np.concatenate((e,r))"
   ]
  },
  {
   "cell_type": "code",
   "execution_count": 46,
   "id": "6199d960-9dfd-4059-88ae-79b967b63011",
   "metadata": {},
   "outputs": [
    {
     "data": {
      "text/plain": [
       "array([[ 1,  2,  3],\n",
       "       [ 4,  5,  6],\n",
       "       [40, 50, 60],\n",
       "       [ 9,  8,  7]])"
      ]
     },
     "execution_count": 46,
     "metadata": {},
     "output_type": "execute_result"
    }
   ],
   "source": [
    "e1"
   ]
  },
  {
   "cell_type": "code",
   "execution_count": 48,
   "id": "7bdbb2cf-b57c-43e3-b849-a704d15fc198",
   "metadata": {},
   "outputs": [
    {
     "data": {
      "text/plain": [
       "array([[ 1,  2,  3],\n",
       "       [ 4,  5,  6],\n",
       "       [40, 50, 60],\n",
       "       [ 9,  8,  7]])"
      ]
     },
     "execution_count": 48,
     "metadata": {},
     "output_type": "execute_result"
    }
   ],
   "source": [
    "#specify axis as well\n",
    "e1=np.concatenate((e,r),axis=0)\n",
    "e1"
   ]
  },
  {
   "cell_type": "code",
   "execution_count": 55,
   "id": "b482e1c3-937a-47fb-a65b-4ef776ecf492",
   "metadata": {},
   "outputs": [
    {
     "data": {
      "text/plain": [
       "array([[ 1,  2,  3, 40, 50, 60],\n",
       "       [ 4,  5,  6,  9,  8,  7]])"
      ]
     },
     "execution_count": 55,
     "metadata": {},
     "output_type": "execute_result"
    }
   ],
   "source": [
    "e1=np.concatenate((e,r),axis=1)\n",
    "e1"
   ]
  },
  {
   "cell_type": "code",
   "execution_count": 57,
   "id": "5e090f3d-2ed9-43a4-ae90-901fe9b626e3",
   "metadata": {},
   "outputs": [
    {
     "data": {
      "text/plain": [
       "array([[2, 2, 2],\n",
       "       [1, 1, 1],\n",
       "       [1, 1, 1]])"
      ]
     },
     "execution_count": 57,
     "metadata": {},
     "output_type": "execute_result"
    }
   ],
   "source": [
    "a1"
   ]
  },
  {
   "cell_type": "code",
   "execution_count": 60,
   "id": "82aa9151-86bf-42dd-a8a3-505e2644e6ee",
   "metadata": {},
   "outputs": [
    {
     "data": {
      "text/plain": [
       "array([[1, 2, 3],\n",
       "       [4, 5, 6],\n",
       "       [7, 8, 9]])"
      ]
     },
     "execution_count": 60,
     "metadata": {},
     "output_type": "execute_result"
    }
   ],
   "source": [
    "a"
   ]
  },
  {
   "cell_type": "code",
   "execution_count": 62,
   "id": "fbcf6b85-a8de-4c01-95c4-01a4f0eaafd7",
   "metadata": {},
   "outputs": [
    {
     "data": {
      "text/plain": [
       "array([[[1, 2, 3],\n",
       "        [4, 5, 6],\n",
       "        [7, 8, 9]],\n",
       "\n",
       "       [[2, 2, 2],\n",
       "        [1, 1, 1],\n",
       "        [1, 1, 1]]])"
      ]
     },
     "execution_count": 62,
     "metadata": {},
     "output_type": "execute_result"
    }
   ],
   "source": [
    "a3=np.stack((a,a1),axis=0) #stack generates a new axis every time\n",
    "a3"
   ]
  },
  {
   "cell_type": "code",
   "execution_count": 11,
   "id": "e9d432a1-2398-4869-8220-7a02a2da9cdc",
   "metadata": {},
   "outputs": [],
   "source": [
    "a1=np.array([10,20,30])\n",
    "a2=np.array([5,15,25])"
   ]
  },
  {
   "cell_type": "code",
   "execution_count": 35,
   "id": "ae1d2f53-4558-406b-b93d-e4b5d355a991",
   "metadata": {},
   "outputs": [],
   "source": [
    "a3=np.stack((a1,a2),axis=1)"
   ]
  },
  {
   "cell_type": "markdown",
   "id": "7a4ff5bc-041d-4bcf-97b4-6505a7dd0bfa",
   "metadata": {},
   "source": [
    "### "
   ]
  },
  {
   "cell_type": "code",
   "execution_count": 38,
   "id": "e1cbfb72-c5d8-49de-9423-9b39f1750b24",
   "metadata": {},
   "outputs": [
    {
     "data": {
      "text/plain": [
       "array([[10,  5],\n",
       "       [20, 15],\n",
       "       [30, 25]])"
      ]
     },
     "execution_count": 38,
     "metadata": {},
     "output_type": "execute_result"
    }
   ],
   "source": [
    "a3 #stack made it two d"
   ]
  },
  {
   "cell_type": "code",
   "execution_count": 18,
   "id": "b843008c-9903-498a-91aa-8a65de506005",
   "metadata": {},
   "outputs": [],
   "source": [
    "a4=np.concatenate((a1,a2))"
   ]
  },
  {
   "cell_type": "code",
   "execution_count": 20,
   "id": "3e92dc6a-3e43-4a3d-b52d-28ff64b89d57",
   "metadata": {},
   "outputs": [
    {
     "data": {
      "text/plain": [
       "array([10, 20, 30,  5, 15, 25])"
      ]
     },
     "execution_count": 20,
     "metadata": {},
     "output_type": "execute_result"
    }
   ],
   "source": [
    "a4 "
   ]
  },
  {
   "cell_type": "code",
   "execution_count": 43,
   "id": "73cdffd6-5f4f-43e4-958b-3c5264af85cb",
   "metadata": {},
   "outputs": [],
   "source": [
    "#array split->in this the numpy arrays stored in a list and each element pair becomes a numpy array\n",
    "a2=np.array([12,23,34,45,56])\n",
    "a3=np.array_split(a2,2)"
   ]
  },
  {
   "cell_type": "code",
   "execution_count": 46,
   "id": "9082acfb-5c9c-4111-9c03-018ae69f4a23",
   "metadata": {},
   "outputs": [
    {
     "data": {
      "text/plain": [
       "[array([12, 23, 34]), array([45, 56])]"
      ]
     },
     "execution_count": 46,
     "metadata": {},
     "output_type": "execute_result"
    }
   ],
   "source": [
    "a3"
   ]
  },
  {
   "cell_type": "code",
   "execution_count": 52,
   "id": "7b370915-e030-4d3e-951b-84cb55424e2b",
   "metadata": {},
   "outputs": [],
   "source": [
    "a2=np.array([12,23,34,45,56])\n",
    "a3=np.array_split(a2,6)"
   ]
  },
  {
   "cell_type": "code",
   "execution_count": 54,
   "id": "fb41f4a7-67f0-4ede-867b-c69eb00d1cac",
   "metadata": {},
   "outputs": [
    {
     "data": {
      "text/plain": [
       "[array([12]),\n",
       " array([23]),\n",
       " array([34]),\n",
       " array([45]),\n",
       " array([56]),\n",
       " array([], dtype=int32)]"
      ]
     },
     "execution_count": 54,
     "metadata": {},
     "output_type": "execute_result"
    }
   ],
   "source": [
    "a3"
   ]
  },
  {
   "cell_type": "code",
   "execution_count": 60,
   "id": "919733cf-3b39-4c58-bde6-a2510e7e4cfa",
   "metadata": {},
   "outputs": [],
   "source": [
    "a=np.array([[1,2,3],[10,20,30],[4,5,6],[40,50,60]])\n",
    "b=np.array_split(a,3)"
   ]
  },
  {
   "cell_type": "code",
   "execution_count": 62,
   "id": "bf97481d-5f65-4759-ab93-179dea2a144e",
   "metadata": {},
   "outputs": [
    {
     "data": {
      "text/plain": [
       "[array([[ 1,  2,  3],\n",
       "        [10, 20, 30]]),\n",
       " array([[4, 5, 6]]),\n",
       " array([[40, 50, 60]])]"
      ]
     },
     "execution_count": 62,
     "metadata": {},
     "output_type": "execute_result"
    }
   ],
   "source": [
    "b"
   ]
  },
  {
   "cell_type": "code",
   "execution_count": 64,
   "id": "00da618a-df47-4698-a36a-f18e47af20dd",
   "metadata": {},
   "outputs": [
    {
     "data": {
      "text/plain": [
       "[array([[1, 2, 3]]),\n",
       " array([[10, 20, 30]]),\n",
       " array([[4, 5, 6]]),\n",
       " array([[40, 50, 60]])]"
      ]
     },
     "execution_count": 64,
     "metadata": {},
     "output_type": "execute_result"
    }
   ],
   "source": [
    "b=np.array_split(a,4)\n",
    "b"
   ]
  },
  {
   "cell_type": "code",
   "execution_count": 68,
   "id": "19e2cb90-23ed-4712-9245-b1320774a47a",
   "metadata": {},
   "outputs": [
    {
     "data": {
      "text/plain": [
       "(array([3, 4, 5, 9], dtype=int64),)"
      ]
     },
     "execution_count": 68,
     "metadata": {},
     "output_type": "execute_result"
    }
   ],
   "source": [
    "#search for a elements and u can store its indexes in array as well\n",
    "a=np.array([1,2,3,4,4,4,6,7,8,4])\n",
    "x=np.where(a==4)\n",
    "x"
   ]
  },
  {
   "cell_type": "code",
   "execution_count": 70,
   "id": "d27a43ac-4c68-41bb-a470-6ce0d7d69159",
   "metadata": {},
   "outputs": [
    {
     "data": {
      "text/plain": [
       "(array([1, 3, 4, 5, 6, 8, 9], dtype=int64),)"
      ]
     },
     "execution_count": 70,
     "metadata": {},
     "output_type": "execute_result"
    }
   ],
   "source": [
    "#find even numbers\n",
    "x=np.where(a%2==0)\n",
    "x"
   ]
  },
  {
   "cell_type": "code",
   "execution_count": 74,
   "id": "348603e7-7681-4279-aabd-e43a26025174",
   "metadata": {},
   "outputs": [
    {
     "data": {
      "text/plain": [
       "(array([0, 2, 7], dtype=int64),)"
      ]
     },
     "execution_count": 74,
     "metadata": {},
     "output_type": "execute_result"
    }
   ],
   "source": [
    "#find odd numbers indexes\n",
    "c=np.where(a%2!=0)\n",
    "c"
   ]
  },
  {
   "cell_type": "code",
   "execution_count": 76,
   "id": "9fd0ea15-22c7-4142-8c63-06e6d31ca568",
   "metadata": {},
   "outputs": [
    {
     "data": {
      "text/plain": [
       "(array([1, 2], dtype=int64), array([0, 1], dtype=int64))"
      ]
     },
     "execution_count": 76,
     "metadata": {},
     "output_type": "execute_result"
    }
   ],
   "source": [
    "a1=np.array([[1,5,6],[8,4,3],[7,8,6]])\n",
    "x=np.where(a1==8)\n",
    "x #1,0  2,1 pe h"
   ]
  },
  {
   "cell_type": "code",
   "execution_count": 78,
   "id": "fca15a55-9ee3-4a04-b49d-44c5db9e093f",
   "metadata": {},
   "outputs": [
    {
     "data": {
      "text/plain": [
       "array([[1, 5, 6],\n",
       "       [8, 4, 3],\n",
       "       [7, 8, 6]])"
      ]
     },
     "execution_count": 78,
     "metadata": {},
     "output_type": "execute_result"
    }
   ],
   "source": [
    "a1"
   ]
  },
  {
   "cell_type": "code",
   "execution_count": 80,
   "id": "d3dc5504-34c8-4435-94fd-772d1c76005d",
   "metadata": {},
   "outputs": [
    {
     "data": {
      "text/plain": [
       "array([30, 40, 50])"
      ]
     },
     "execution_count": 80,
     "metadata": {},
     "output_type": "execute_result"
    }
   ],
   "source": [
    "a1=np.array([40,30,50])\n",
    "a2=np.sort(a1)\n",
    "a2"
   ]
  },
  {
   "cell_type": "code",
   "execution_count": 90,
   "id": "9cdbba4b-cf7b-441e-bd46-9637b248b593",
   "metadata": {},
   "outputs": [],
   "source": [
    "a1=np.array([[50,40],[10,80],[30,70],[60,20]])\n",
    "a2=np.sort(a1,axis=0)"
   ]
  },
  {
   "cell_type": "code",
   "execution_count": 92,
   "id": "38ef6d12-3184-4680-aa02-f4df117cb1e5",
   "metadata": {},
   "outputs": [
    {
     "data": {
      "text/plain": [
       "array([[10, 20],\n",
       "       [30, 40],\n",
       "       [50, 70],\n",
       "       [60, 80]])"
      ]
     },
     "execution_count": 92,
     "metadata": {},
     "output_type": "execute_result"
    }
   ],
   "source": [
    "a2"
   ]
  },
  {
   "cell_type": "code",
   "execution_count": 96,
   "id": "b118792f-ee78-4cde-aae3-25b88bc645c9",
   "metadata": {},
   "outputs": [
    {
     "data": {
      "text/plain": [
       "array([[40, 50],\n",
       "       [10, 80],\n",
       "       [30, 70],\n",
       "       [20, 60]])"
      ]
     },
     "execution_count": 96,
     "metadata": {},
     "output_type": "execute_result"
    }
   ],
   "source": [
    "a1=np.array([[50,40],[10,80],[30,70],[60,20]])\n",
    "a2=np.sort(a1,axis=1)\n",
    "a2"
   ]
  },
  {
   "cell_type": "code",
   "execution_count": 98,
   "id": "c1a910ce-dcd2-46e2-b68c-b67f4cbb3956",
   "metadata": {},
   "outputs": [],
   "source": [
    "#see the difference from both with axis 0 it sorted one d array and then all column sort#"
   ]
  },
  {
   "cell_type": "code",
   "execution_count": 100,
   "id": "82dee270-d242-4030-9145-839c1aafa553",
   "metadata": {},
   "outputs": [
    {
     "data": {
      "text/plain": [
       "array([10, 26, 31])"
      ]
     },
     "execution_count": 100,
     "metadata": {},
     "output_type": "execute_result"
    }
   ],
   "source": [
    "#filter out elements in a array\n",
    "a1=np.array([10,14,26,31,42,53,67])\n",
    "l=[True,False,True,True,False,False,False]\n",
    "a1[l] #a1 me se wahi elements filter huee jinke liye corrosponding true tha"
   ]
  },
  {
   "cell_type": "code",
   "execution_count": 102,
   "id": "0924e37b-75f0-4ce7-8ac4-7a33c6666ae4",
   "metadata": {},
   "outputs": [
    {
     "data": {
      "text/plain": [
       "array([10, 10, 10, 14, 10, 14, 14])"
      ]
     },
     "execution_count": 102,
     "metadata": {},
     "output_type": "execute_result"
    }
   ],
   "source": [
    "a1[a1%2] #isme if a1%2 pe if 0 aaya so 0 index ki value printed"
   ]
  },
  {
   "cell_type": "code",
   "execution_count": 106,
   "id": "256b5d17-b835-4c9a-95d1-b958fbd07812",
   "metadata": {},
   "outputs": [
    {
     "data": {
      "text/plain": [
       "array([26, 31, 42, 53, 67])"
      ]
     },
     "execution_count": 106,
     "metadata": {},
     "output_type": "execute_result"
    }
   ],
   "source": [
    "#seeing greater value than 25\n",
    "a1[a1>25]"
   ]
  },
  {
   "cell_type": "markdown",
   "id": "ddc87a91-85ab-49c1-b744-426ea61b7082",
   "metadata": {},
   "source": [
    "# broadcasting"
   ]
  },
  {
   "cell_type": "raw",
   "id": "0212273c-ef56-477b-9b35-bbe4689b6cb4",
   "metadata": {},
   "source": [
    " broadcasting is a feature in numpy that allows of different shapes to be used in arithmetic operations"
   ]
  },
  {
   "cell_type": "code",
   "execution_count": 4,
   "id": "95250b09-c016-49cb-bcfd-408456da6383",
   "metadata": {},
   "outputs": [
    {
     "data": {
      "text/plain": [
       "array([3, 4, 5])"
      ]
     },
     "execution_count": 4,
     "metadata": {},
     "output_type": "execute_result"
    }
   ],
   "source": [
    "a=np.array([1,2,3])\n",
    "a+2"
   ]
  },
  {
   "cell_type": "code",
   "execution_count": 6,
   "id": "0d7f2f34-665e-4b36-a854-2fa3b348938d",
   "metadata": {},
   "outputs": [
    {
     "data": {
      "text/plain": [
       "(3,)"
      ]
     },
     "execution_count": 6,
     "metadata": {},
     "output_type": "execute_result"
    }
   ],
   "source": [
    "a.shape"
   ]
  },
  {
   "cell_type": "code",
   "execution_count": 20,
   "id": "35a6657a-0710-4708-bb84-ed83fd211077",
   "metadata": {},
   "outputs": [
    {
     "data": {
      "text/plain": [
       "(3,)"
      ]
     },
     "execution_count": 20,
     "metadata": {},
     "output_type": "execute_result"
    }
   ],
   "source": [
    "a1=np.array([1,2,3])\n",
    "a1.shape"
   ]
  },
  {
   "cell_type": "code",
   "execution_count": 22,
   "id": "b2d09fb5-3176-4de4-a0da-0acfdd5a11da",
   "metadata": {},
   "outputs": [
    {
     "ename": "ValueError",
     "evalue": "operands could not be broadcast together with shapes (3,) (4,) ",
     "output_type": "error",
     "traceback": [
      "\u001b[1;31m---------------------------------------------------------------------------\u001b[0m",
      "\u001b[1;31mValueError\u001b[0m                                Traceback (most recent call last)",
      "Cell \u001b[1;32mIn[22], line 2\u001b[0m\n\u001b[0;32m      1\u001b[0m a2\u001b[38;5;241m=\u001b[39mnp\u001b[38;5;241m.\u001b[39marray([\u001b[38;5;241m5\u001b[39m,\u001b[38;5;241m6\u001b[39m,\u001b[38;5;241m7\u001b[39m,\u001b[38;5;241m8\u001b[39m])\n\u001b[1;32m----> 2\u001b[0m a1\u001b[38;5;241m+\u001b[39ma2\n",
      "\u001b[1;31mValueError\u001b[0m: operands could not be broadcast together with shapes (3,) (4,) "
     ]
    }
   ],
   "source": [
    "a2=np.array([5,6,7,8])\n",
    "a1+a2"
   ]
  },
  {
   "cell_type": "code",
   "execution_count": 12,
   "id": "c28c6964-14c5-42e9-9952-70c8eab93d8c",
   "metadata": {},
   "outputs": [],
   "source": [
    "#so some time shape is different and broadcasting is not all possible in different shapes"
   ]
  },
  {
   "cell_type": "code",
   "execution_count": 26,
   "id": "20fea0eb-4241-421c-9254-41708150c268",
   "metadata": {},
   "outputs": [
    {
     "data": {
      "text/plain": [
       "array([1, 2, 3])"
      ]
     },
     "execution_count": 26,
     "metadata": {},
     "output_type": "execute_result"
    }
   ],
   "source": [
    "a1"
   ]
  },
  {
   "cell_type": "code",
   "execution_count": 24,
   "id": "3616893f-1196-422b-9459-d4008d3999e9",
   "metadata": {},
   "outputs": [
    {
     "data": {
      "text/plain": [
       "array([[2, 3, 4],\n",
       "       [3, 4, 5],\n",
       "       [4, 5, 6]])"
      ]
     },
     "execution_count": 24,
     "metadata": {},
     "output_type": "execute_result"
    }
   ],
   "source": [
    "a4=np.array([[1],[2],[3]])\n",
    "a1+a4 #array apne aap ko match ke liye accordingly broadcast kar leta h"
   ]
  },
  {
   "cell_type": "code",
   "execution_count": 32,
   "id": "84bf4890-cd39-4a60-8ad3-d171234d13b5",
   "metadata": {},
   "outputs": [
    {
     "data": {
      "text/plain": [
       "(3,)"
      ]
     },
     "execution_count": 32,
     "metadata": {},
     "output_type": "execute_result"
    }
   ],
   "source": [
    "a1.shape\n"
   ]
  },
  {
   "cell_type": "code",
   "execution_count": 30,
   "id": "2a335fad-a82d-4309-8b4a-1b5ca4714c95",
   "metadata": {},
   "outputs": [
    {
     "data": {
      "text/plain": [
       "(3, 1)"
      ]
     },
     "execution_count": 30,
     "metadata": {},
     "output_type": "execute_result"
    }
   ],
   "source": [
    "a4.shape"
   ]
  },
  {
   "cell_type": "raw",
   "id": "93bd6ef9-83a9-4cc7-ae53-23e83f9cb633",
   "metadata": {},
   "source": [
    "#so smaller array is broadcast across the larger array so that they have compatible shapes\n",
    "a2=a1+5\n",
    "a2=[5,7,9]+5\n",
    "a2=[5,7,9]+[5,5,5]\n",
    "a2=[10,12,14]\n",
    "\n",
    "#(1,3)+(3,1) ye shape wale can be broadcasted (3,3) ka matrix 1->3 ke level tak aayega and 3->1 ke\n",
    "#when operating on two arrays,numpy compares their shapes elements-wise.it starts with the trailing\n",
    "(rightmost) dimension\n",
    "\n",
    "2d are compatible when\n",
    "1.they are equal or\n",
    "2.one of them is 1\n",
    "\n",
    "->[1,2,3]+[4,5,6,7] //(1,3)+(1,4) not compatible\n",
    "->[1,2,3]+[4,5,6] //(1,3)+(1,3) compatible\n",
    "->[[1,2,3],\n",
    "  [3,4,5]] +[4]//(2,3)+(1,1) compatible 4 can be broadcasted\n",
    "->[[1,2,3],+[[1,2]\n",
    "             [3,4]] //(3,3,3)+(2,2,2) //not compatible\n",
    "  [3,4,5],\n",
    "  [6,7,8]]\n",
    "->[[1,2],\n",
    "  [3,4],\n",
    "  [5,6]] +[1,2,3] //(3,2)+(1,3) //not compatible\n",
    "->[[1,2,3],\n",
    "   [3,4,5]]+[1,2,3] //(2,3)+(1,3) //compatible"
   ]
  },
  {
   "cell_type": "code",
   "execution_count": 38,
   "id": "7123edf8-2664-42c5-96ca-9a2c1b07324b",
   "metadata": {},
   "outputs": [],
   "source": [
    "b1=np.ones((2,3,5))\n",
    "b2=np.ones((4,1,5)) #2 or 4 here r not equal nor 1 from both of them"
   ]
  },
  {
   "cell_type": "code",
   "execution_count": 40,
   "id": "27f4273b-d5fa-4bc9-aaf7-829165489f03",
   "metadata": {},
   "outputs": [
    {
     "ename": "ValueError",
     "evalue": "operands could not be broadcast together with shapes (2,3,5) (4,1,5) ",
     "output_type": "error",
     "traceback": [
      "\u001b[1;31m---------------------------------------------------------------------------\u001b[0m",
      "\u001b[1;31mValueError\u001b[0m                                Traceback (most recent call last)",
      "Cell \u001b[1;32mIn[40], line 1\u001b[0m\n\u001b[1;32m----> 1\u001b[0m b1\u001b[38;5;241m+\u001b[39mb2\n",
      "\u001b[1;31mValueError\u001b[0m: operands could not be broadcast together with shapes (2,3,5) (4,1,5) "
     ]
    }
   ],
   "source": [
    "b1+b2"
   ]
  },
  {
   "cell_type": "code",
   "execution_count": 46,
   "id": "ea5fe56a-e16b-475f-af6d-fc5e79ccee48",
   "metadata": {},
   "outputs": [],
   "source": [
    "b1=np.ones((1,3,5),dtype='int')\n",
    "b2=np.ones((4,1,5),dtype='int')"
   ]
  },
  {
   "cell_type": "code",
   "execution_count": 48,
   "id": "13bde5ba-64e7-4d18-9354-bb961fe376f8",
   "metadata": {},
   "outputs": [
    {
     "data": {
      "text/plain": [
       "array([[[2, 2, 2, 2, 2],\n",
       "        [2, 2, 2, 2, 2],\n",
       "        [2, 2, 2, 2, 2]],\n",
       "\n",
       "       [[2, 2, 2, 2, 2],\n",
       "        [2, 2, 2, 2, 2],\n",
       "        [2, 2, 2, 2, 2]],\n",
       "\n",
       "       [[2, 2, 2, 2, 2],\n",
       "        [2, 2, 2, 2, 2],\n",
       "        [2, 2, 2, 2, 2]],\n",
       "\n",
       "       [[2, 2, 2, 2, 2],\n",
       "        [2, 2, 2, 2, 2],\n",
       "        [2, 2, 2, 2, 2]]])"
      ]
     },
     "execution_count": 48,
     "metadata": {},
     "output_type": "execute_result"
    }
   ],
   "source": [
    "b1+b2"
   ]
  },
  {
   "cell_type": "markdown",
   "id": "ee4c153b-1646-4c16-a9f9-6cb2d4c1def5",
   "metadata": {},
   "source": [
    "# structured array"
   ]
  },
  {
   "cell_type": "code",
   "execution_count": 5,
   "id": "332f7072-3a59-49ed-838b-f24216130aff",
   "metadata": {},
   "outputs": [
    {
     "data": {
      "text/plain": [
       "array(['priya', '21', '80.0'], dtype='<U32')"
      ]
     },
     "execution_count": 5,
     "metadata": {},
     "output_type": "execute_result"
    }
   ],
   "source": [
    "a=np.array([(\"priya\",21,80.0),(\"raj\",22,70.2)])\n",
    "a[0]"
   ]
  },
  {
   "cell_type": "code",
   "execution_count": 53,
   "id": "5352c1f1-f191-45ce-b620-d8010741c76b",
   "metadata": {},
   "outputs": [
    {
     "data": {
      "text/plain": [
       "array(['raj', '22', '70.2'], dtype='<U32')"
      ]
     },
     "execution_count": 53,
     "metadata": {},
     "output_type": "execute_result"
    }
   ],
   "source": [
    "a[1]"
   ]
  },
  {
   "cell_type": "code",
   "execution_count": 55,
   "id": "da5dce84-89ac-4e84-844b-aa09fc57317a",
   "metadata": {},
   "outputs": [
    {
     "data": {
      "text/plain": [
       "array([['priya', '21', '80.0'],\n",
       "       ['raj', '22', '70.2']], dtype='<U32')"
      ]
     },
     "execution_count": 55,
     "metadata": {},
     "output_type": "execute_result"
    }
   ],
   "source": [
    "a"
   ]
  },
  {
   "cell_type": "code",
   "execution_count": 57,
   "id": "f5b0de7b-f186-4ec4-ab97-694b8b82485d",
   "metadata": {},
   "outputs": [
    {
     "data": {
      "text/plain": [
       "'priya'"
      ]
     },
     "execution_count": 57,
     "metadata": {},
     "output_type": "execute_result"
    }
   ],
   "source": [
    "a[0][0]"
   ]
  },
  {
   "cell_type": "code",
   "execution_count": 13,
   "id": "b281d8dd-ebb7-4e87-ab7c-bc8a19f4def6",
   "metadata": {},
   "outputs": [],
   "source": [
    "a=np.array([(\"priya\",21,80.0),(\"raj\",22,70.2)],dtype=[('name','U10'),('age','int'),('weight','float')]) #data type provided through list of tuples"
   ]
  },
  {
   "cell_type": "code",
   "execution_count": 15,
   "id": "08490f04-8661-468e-a000-14e0fcbd433c",
   "metadata": {},
   "outputs": [
    {
     "data": {
      "text/plain": [
       "array([('priya', 21, 80. ), ('raj', 22, 70.2)],\n",
       "      dtype=[('name', '<U10'), ('age', '<i4'), ('weight', '<f8')])"
      ]
     },
     "execution_count": 15,
     "metadata": {},
     "output_type": "execute_result"
    }
   ],
   "source": [
    "a"
   ]
  },
  {
   "cell_type": "code",
   "execution_count": 17,
   "id": "0be60811-5457-4201-b9a3-ad948b244884",
   "metadata": {},
   "outputs": [
    {
     "data": {
      "text/plain": [
       "'raj'"
      ]
     },
     "execution_count": 17,
     "metadata": {},
     "output_type": "execute_result"
    }
   ],
   "source": [
    "a[1][0]"
   ]
  },
  {
   "cell_type": "code",
   "execution_count": 19,
   "id": "5d19d3ff-bff1-4f77-922d-6cf9902446ce",
   "metadata": {},
   "outputs": [
    {
     "data": {
      "text/plain": [
       "('priya', 21, 80.)"
      ]
     },
     "execution_count": 19,
     "metadata": {},
     "output_type": "execute_result"
    }
   ],
   "source": [
    "a[0]"
   ]
  },
  {
   "cell_type": "code",
   "execution_count": 21,
   "id": "b1e694fc-e61b-486a-afed-739968eef413",
   "metadata": {},
   "outputs": [
    {
     "data": {
      "text/plain": [
       "array(['priya', 'raj'], dtype='<U10')"
      ]
     },
     "execution_count": 21,
     "metadata": {},
     "output_type": "execute_result"
    }
   ],
   "source": [
    "a['name']"
   ]
  },
  {
   "cell_type": "code",
   "execution_count": 23,
   "id": "8b45891d-29b4-406b-826a-8222c4b41ee9",
   "metadata": {},
   "outputs": [
    {
     "data": {
      "text/plain": [
       "array([21, 22])"
      ]
     },
     "execution_count": 23,
     "metadata": {},
     "output_type": "execute_result"
    }
   ],
   "source": [
    "a['age'] #understand thus as raw or column"
   ]
  },
  {
   "cell_type": "code",
   "execution_count": 25,
   "id": "9b83ed2b-3abc-49df-ba8c-29cbc2c51628",
   "metadata": {},
   "outputs": [],
   "source": [
    "#modify\n",
    "a[0][1]=22"
   ]
  },
  {
   "cell_type": "code",
   "execution_count": 27,
   "id": "b5fd0484-ce3f-4fe1-9fdf-d9a7b267b0ec",
   "metadata": {},
   "outputs": [
    {
     "data": {
      "text/plain": [
       "array([('priya', 22, 80. ), ('raj', 22, 70.2)],\n",
       "      dtype=[('name', '<U10'), ('age', '<i4'), ('weight', '<f8')])"
      ]
     },
     "execution_count": 27,
     "metadata": {},
     "output_type": "execute_result"
    }
   ],
   "source": [
    "a"
   ]
  },
  {
   "cell_type": "code",
   "execution_count": 29,
   "id": "dba2ca86-758c-4524-8d21-05d472b71a42",
   "metadata": {},
   "outputs": [],
   "source": [
    "a[0]['age']=23 #change age through raw"
   ]
  },
  {
   "cell_type": "code",
   "execution_count": 31,
   "id": "a6b66d7f-c0df-4f64-bdb9-3ca76c06dacd",
   "metadata": {},
   "outputs": [
    {
     "data": {
      "text/plain": [
       "array([('priya', 23, 80. ), ('raj', 22, 70.2)],\n",
       "      dtype=[('name', '<U10'), ('age', '<i4'), ('weight', '<f8')])"
      ]
     },
     "execution_count": 31,
     "metadata": {},
     "output_type": "execute_result"
    }
   ],
   "source": [
    "a"
   ]
  },
  {
   "cell_type": "code",
   "execution_count": 35,
   "id": "1b62bab0-9dee-4b01-a1e9-9d49058816cd",
   "metadata": {},
   "outputs": [],
   "source": [
    "a['age'][0]=19 #age changed through column"
   ]
  },
  {
   "cell_type": "code",
   "execution_count": 37,
   "id": "f2659af6-dbe8-4978-b61e-0c50784dc82c",
   "metadata": {},
   "outputs": [
    {
     "data": {
      "text/plain": [
       "array([('priya', 19, 80. ), ('raj', 22, 70.2)],\n",
       "      dtype=[('name', '<U10'), ('age', '<i4'), ('weight', '<f8')])"
      ]
     },
     "execution_count": 37,
     "metadata": {},
     "output_type": "execute_result"
    }
   ],
   "source": [
    "a"
   ]
  },
  {
   "cell_type": "code",
   "execution_count": 39,
   "id": "f4e36b90-1aa7-452c-bd15-609231172d04",
   "metadata": {},
   "outputs": [],
   "source": [
    "a['age']=34"
   ]
  },
  {
   "cell_type": "code",
   "execution_count": 41,
   "id": "9d5970c6-04a0-4272-a45d-604b245d05f7",
   "metadata": {},
   "outputs": [
    {
     "data": {
      "text/plain": [
       "array([('priya', 34, 80. ), ('raj', 34, 70.2)],\n",
       "      dtype=[('name', '<U10'), ('age', '<i4'), ('weight', '<f8')])"
      ]
     },
     "execution_count": 41,
     "metadata": {},
     "output_type": "execute_result"
    }
   ],
   "source": [
    "a #pure column ki age changed"
   ]
  },
  {
   "cell_type": "code",
   "execution_count": 43,
   "id": "5d6c320a-942a-45b2-a792-3f1d379bf036",
   "metadata": {},
   "outputs": [],
   "source": [
    "#give data type in other ways\n",
    "#a string of comma seperated\n",
    "a1=np.array([('priya',21,45.0),('raj',22,78.3)],dtype=('U10,i4,f4'))"
   ]
  },
  {
   "cell_type": "code",
   "execution_count": 45,
   "id": "99c74e0a-5998-47fe-9ec2-43446a8f6e59",
   "metadata": {},
   "outputs": [
    {
     "data": {
      "text/plain": [
       "array([('priya', 21, 45. ), ('raj', 22, 78.3)],\n",
       "      dtype=[('f0', '<U10'), ('f1', '<i4'), ('f2', '<f4')])"
      ]
     },
     "execution_count": 45,
     "metadata": {},
     "output_type": "execute_result"
    }
   ],
   "source": [
    "a1"
   ]
  },
  {
   "cell_type": "code",
   "execution_count": 47,
   "id": "134f41fd-d98c-4a7c-8281-a65a4ba30107",
   "metadata": {},
   "outputs": [
    {
     "data": {
      "text/plain": [
       "array(['priya', 'raj'], dtype='<U10')"
      ]
     },
     "execution_count": 47,
     "metadata": {},
     "output_type": "execute_result"
    }
   ],
   "source": [
    "a1['f0']"
   ]
  },
  {
   "cell_type": "code",
   "execution_count": 49,
   "id": "2bb86e27-b2d9-4aff-9c56-177299934186",
   "metadata": {},
   "outputs": [
    {
     "data": {
      "text/plain": [
       "array([21, 22])"
      ]
     },
     "execution_count": 49,
     "metadata": {},
     "output_type": "execute_result"
    }
   ],
   "source": [
    "a1['f1']"
   ]
  },
  {
   "cell_type": "code",
   "execution_count": 57,
   "id": "b54cc906-7dad-4365-86d4-aceb50a07582",
   "metadata": {},
   "outputs": [],
   "source": [
    "#dictionary of field parameters arrays\n",
    "a1=np.array([('priya',21,45.0),('raj',22,78.3)],dtype={'names':['name','age','weight'],'formats':['U10','i4','f4']})\n"
   ]
  },
  {
   "cell_type": "code",
   "execution_count": 59,
   "id": "2f3e4707-6163-48ac-918e-9608b1bc85ac",
   "metadata": {},
   "outputs": [
    {
     "data": {
      "text/plain": [
       "array([('priya', 21, 45. ), ('raj', 22, 78.3)],\n",
       "      dtype=[('name', '<U10'), ('age', '<i4'), ('weight', '<f4')])"
      ]
     },
     "execution_count": 59,
     "metadata": {},
     "output_type": "execute_result"
    }
   ],
   "source": [
    "a1"
   ]
  },
  {
   "cell_type": "code",
   "execution_count": null,
   "id": "9aa9e4fd-d592-41bd-aec9-12f113ff7a50",
   "metadata": {},
   "outputs": [],
   "source": []
  },
  {
   "cell_type": "code",
   "execution_count": null,
   "id": "755be9cf-d978-4dd6-96d6-079062f579e3",
   "metadata": {},
   "outputs": [],
   "source": []
  },
  {
   "cell_type": "code",
   "execution_count": null,
   "id": "f40b3ca9-ff19-4bc9-b5af-ab57f9a0d3d9",
   "metadata": {},
   "outputs": [],
   "source": []
  }
 ],
 "metadata": {
  "kernelspec": {
   "display_name": "Python 3 (ipykernel)",
   "language": "python",
   "name": "python3"
  },
  "language_info": {
   "codemirror_mode": {
    "name": "ipython",
    "version": 3
   },
   "file_extension": ".py",
   "mimetype": "text/x-python",
   "name": "python",
   "nbconvert_exporter": "python",
   "pygments_lexer": "ipython3",
   "version": "3.12.7"
  }
 },
 "nbformat": 4,
 "nbformat_minor": 5
}
